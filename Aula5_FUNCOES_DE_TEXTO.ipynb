{
 "cells": [
  {
   "cell_type": "code",
   "execution_count": 1,
   "metadata": {},
   "outputs": [],
   "source": [
    "from pyspark.sql import SparkSession\n",
    "import pyspark.sql.functions as F "
   ]
  },
  {
   "cell_type": "code",
   "execution_count": 2,
   "metadata": {},
   "outputs": [],
   "source": [
    "spark = (\n",
    "    SparkSession.builder.appName('Aula 5 - FUNÇÕES DE TEXTO: Manipulando Strings com Funções')\n",
    "    .config('spark.sql.repl.eagerEval.enabled', True)\n",
    "    .getOrCreate())"
   ]
  },
  {
   "cell_type": "code",
   "execution_count": 6,
   "metadata": {},
   "outputs": [
    {
     "data": {
      "text/html": [
       "\n",
       "            <div>\n",
       "                <p><b>SparkSession - in-memory</b></p>\n",
       "                \n",
       "        <div>\n",
       "            <p><b>SparkContext</b></p>\n",
       "\n",
       "            <p><a href=\"http://noteLuia:4046\">Spark UI</a></p>\n",
       "\n",
       "            <dl>\n",
       "              <dt>Version</dt>\n",
       "                <dd><code>v3.3.2</code></dd>\n",
       "              <dt>Master</dt>\n",
       "                <dd><code>local[*]</code></dd>\n",
       "              <dt>AppName</dt>\n",
       "                <dd><code>Aula 5</code></dd>\n",
       "            </dl>\n",
       "        </div>\n",
       "        \n",
       "            </div>\n",
       "        "
      ],
      "text/plain": [
       "<pyspark.sql.session.SparkSession at 0x1ef319d32f0>"
      ]
     },
     "execution_count": 6,
     "metadata": {},
     "output_type": "execute_result"
    }
   ],
   "source": [
    "spark"
   ]
  },
  {
   "cell_type": "code",
   "execution_count": 3,
   "metadata": {},
   "outputs": [],
   "source": [
    "local_file = r'C:\\Users\\mluiz\\Documents\\05_Python\\PySpark\\datasets\\LOGINS.parquet'"
   ]
  },
  {
   "cell_type": "code",
   "execution_count": 7,
   "metadata": {},
   "outputs": [],
   "source": [
    "df = spark.read.parquet(local_file).select('email','senha','estado','cor_favorita','profissao')"
   ]
  },
  {
   "cell_type": "code",
   "execution_count": 8,
   "metadata": {},
   "outputs": [
    {
     "name": "stdout",
     "output_type": "stream",
     "text": [
      "+--------------------+----------+------+------------+--------------------+\n",
      "|               email|     senha|estado|cor_favorita|           profissao|\n",
      "+--------------------+----------+------+------------+--------------------+\n",
      "|pedro-lucas53@gma...|+7^7E%xFBc|    RR|        Roxo|    Jogador De Golfe|\n",
      "|rezendeisaac@hotm...|_O_2GRnGOe|    GO|       Ciano|Atleta De Arremes...|\n",
      "|felipepires@uol.c...|*Aw5EOAvy9|    MG|        Azul|      Papiloscopista|\n",
      "+--------------------+----------+------+------------+--------------------+\n",
      "only showing top 3 rows\n",
      "\n"
     ]
    }
   ],
   "source": [
    "df.show(3)"
   ]
  },
  {
   "cell_type": "code",
   "execution_count": 18,
   "metadata": {},
   "outputs": [
    {
     "name": "stderr",
     "output_type": "stream",
     "text": [
      "<>:14: SyntaxWarning: invalid escape sequence '\\.'\n",
      "<>:14: SyntaxWarning: invalid escape sequence '\\.'\n",
      "C:\\Users\\mluiz\\AppData\\Local\\Temp\\ipykernel_23380\\1860085315.py:14: SyntaxWarning: invalid escape sequence '\\.'\n",
      "  .withColumn('nome_provedor', F.split(F.col('provedor'), '\\.').getItem(0))\n"
     ]
    },
    {
     "name": "stdout",
     "output_type": "stream",
     "text": [
      "+------------------------+----------+------+------------+---------------------------+-------------+-----------+-------------+\n",
      "|email                   |senha     |estado|cor_favorita|profissao                  |usuario      |provedor   |nome_provedor|\n",
      "+------------------------+----------+------+------------+---------------------------+-------------+-----------+-------------+\n",
      "|pedro-lucas53@gmail.com |+7^7E%xFBc|RR    |Roxo        |Jogador De Golfe           |pedro-lucas53|gmail.com  |gmail        |\n",
      "|rezendeisaac@hotmail.com|_O_2GRnGOe|GO    |Ciano       |Atleta De Arremesso De Peso|rezendeisaac |hotmail.com|hotmail      |\n",
      "|felipepires@uol.com.br  |*Aw5EOAvy9|MG    |Azul        |Papiloscopista             |felipepires  |uol.com.br |uol          |\n",
      "|stellamoraes@bol.com.br |mw0AWYAs#s|AC    |Marrom      |Aeromoça                   |stellamoraes |bol.com.br |bol          |\n",
      "|wcarvalho@ig.com.br     |pGD%!2Pq5X|AP    |Laranja     |Fonoaudiólogo              |wcarvalho    |ig.com.br  |ig           |\n",
      "+------------------------+----------+------+------------+---------------------------+-------------+-----------+-------------+\n",
      "only showing top 5 rows\n",
      "\n"
     ]
    }
   ],
   "source": [
    "(\n",
    "    df\n",
    "    # Adiciona uma coluna chamada 'usuario', que extrai o nome de usuário do e-mail dividindo-o pelo '@'.\n",
    "    # Em seguida, salva esses elementos em uma lista e retorna apenas o primeiro índice dessa lista.\n",
    "    # Por exemplo, se o e-mail for 'teste@teste.com', isso resultará em ['teste', 'teste.com'],\n",
    "    # e o primeiro índice da lista (índice 0) será retornado, ou seja, 'teste'.\n",
    "    .withColumn('usuario', F.split(df.email, '@').getItem(0))\n",
    "    # Adiciona uma coluna chamada 'provedor', que extrai o provedor do e-mail dividindo-o pelo '@'.\n",
    "    .withColumn('provedor', F.split(df.email, '@').getItem(1))\n",
    "    # Como a coluna 'provedor' ainda não está salva em 'df', utilizamos F.col para referenciar o nome da coluna.\n",
    "    # F.col é usado para acessar colunas existentes ou criadas anteriormente, por isso é preferível usá-lo.\n",
    "    # O '.' (ponto) é um caractere especial, então para ser reconhecido corretamente, é necessário usar '\\.'.\n",
    "    # Em seguida, é criada a coluna 'nome_provedor' que pega o nome do provedor (parte antes do primeiro '.') e a adiciona ao DataFrame.\n",
    "    .withColumn('nome_provedor', F.split(F.col('provedor'), '\\.').getItem(0))\n",
    ").show(5, False)"
   ]
  },
  {
   "cell_type": "code",
   "execution_count": 26,
   "metadata": {},
   "outputs": [
    {
     "name": "stdout",
     "output_type": "stream",
     "text": [
      "+------------------------+----------+------+------------+---------------------------+--------------------------------+---------------------------------+-------+\n",
      "|email                   |senha     |estado|cor_favorita|profissao                  |concat                          |concat2                          |concat3|\n",
      "+------------------------+----------+------+------------+---------------------------+--------------------------------+---------------------------------+-------+\n",
      "|pedro-lucas53@gmail.com |+7^7E%xFBc|RR    |Roxo        |Jogador De Golfe           |Jogador De GolfeRoxo            |Jogador De Golfe Roxo            |RR - BR|\n",
      "|rezendeisaac@hotmail.com|_O_2GRnGOe|GO    |Ciano       |Atleta De Arremesso De Peso|Atleta De Arremesso De PesoCiano|Atleta De Arremesso De Peso Ciano|GO - BR|\n",
      "|felipepires@uol.com.br  |*Aw5EOAvy9|MG    |Azul        |Papiloscopista             |PapiloscopistaAzul              |Papiloscopista Azul              |MG - BR|\n",
      "+------------------------+----------+------+------------+---------------------------+--------------------------------+---------------------------------+-------+\n",
      "only showing top 3 rows\n",
      "\n"
     ]
    }
   ],
   "source": [
    "(\n",
    "    df\n",
    "    .withColumn('concat', F.concat(df.profissao, df.cor_favorita))\n",
    "    .withColumn('concat2', F.concat_ws(' ',df.profissao, df.cor_favorita))\n",
    "    .withColumn('concat3', F.concat(df.estado, F.lit(' - BR')))\n",
    ").show(3, False)"
   ]
  },
  {
   "cell_type": "code",
   "execution_count": 29,
   "metadata": {},
   "outputs": [
    {
     "name": "stdout",
     "output_type": "stream",
     "text": [
      "+------------------------+----------+------+------------+---------------------------+---------------------------+-----+---------------------------+\n",
      "|email                   |senha     |estado|cor_favorita|profissao                  |lower                      |upper|initcap                    |\n",
      "+------------------------+----------+------+------------+---------------------------+---------------------------+-----+---------------------------+\n",
      "|pedro-lucas53@gmail.com |+7^7E%xFBc|RR    |Roxo        |Jogador De Golfe           |jogador de golfe           |ROXO |Jogador De Golfe           |\n",
      "|rezendeisaac@hotmail.com|_O_2GRnGOe|GO    |Ciano       |Atleta De Arremesso De Peso|atleta de arremesso de peso|CIANO|Atleta De Arremesso De Peso|\n",
      "|felipepires@uol.com.br  |*Aw5EOAvy9|MG    |Azul        |Papiloscopista             |papiloscopista             |AZUL |Papiloscopista             |\n",
      "+------------------------+----------+------+------------+---------------------------+---------------------------+-----+---------------------------+\n",
      "only showing top 3 rows\n",
      "\n"
     ]
    }
   ],
   "source": [
    "(\n",
    "    df\n",
    "    .withColumn('lower', F.lower(df.profissao))\n",
    "    .withColumn('upper', F.upper(df.cor_favorita))\n",
    "    .withColumn('initcap', F.initcap(F.col('lower')))\n",
    ").show(3, False)"
   ]
  },
  {
   "cell_type": "code",
   "execution_count": 34,
   "metadata": {},
   "outputs": [
    {
     "name": "stdout",
     "output_type": "stream",
     "text": [
      "+--------------------+----------+------+------------+--------------------+---------+----------+----------+\n",
      "|               email|     senha|estado|cor_favorita|           profissao|substring|substring2|substring3|\n",
      "+--------------------+----------+------+------------+--------------------+---------+----------+----------+\n",
      "|pedro-lucas53@gma...|+7^7E%xFBc|    RR|        Roxo|    Jogador De Golfe|      Rox|       oxo|       oxo|\n",
      "|rezendeisaac@hotm...|_O_2GRnGOe|    GO|       Ciano|Atleta De Arremes...|      Cia|       ian|      iano|\n",
      "|felipepires@uol.c...|*Aw5EOAvy9|    MG|        Azul|      Papiloscopista|      Azu|       zul|       zul|\n",
      "|stellamoraes@bol....|mw0AWYAs#s|    AC|      Marrom|            Aeromoça|      Mar|       arr|     arrom|\n",
      "| wcarvalho@ig.com.br|pGD%!2Pq5X|    AP|     Laranja|       Fonoaudiólogo|      Lar|       ara|    aranja|\n",
      "+--------------------+----------+------+------------+--------------------+---------+----------+----------+\n",
      "only showing top 5 rows\n",
      "\n"
     ]
    }
   ],
   "source": [
    "(\n",
    "    df\n",
    "    .withColumn('substring', F.substring(df.cor_favorita, 1,3)) # Extrai os 3 primeiros caracteres da coluna 'cor_favorita'\n",
    "    .withColumn('substring2', F.substring(df.cor_favorita, 2,3)) # Extrai 3 caracteres a partir do segundo caracter da coluna 'cor_favorita'\n",
    "    .withColumn('substring3', F.substring(df.cor_favorita, 2,100)) # Se a coluna 'cor_favorita' tiver menos de 100 caracteres, será extraído o máximo possível a partir do segundo caracter.   \n",
    ").show(5)"
   ]
  },
  {
   "cell_type": "code",
   "execution_count": 46,
   "metadata": {},
   "outputs": [
    {
     "name": "stdout",
     "output_type": "stream",
     "text": [
      "+------------------------+----------+------+------------+---------------------------+------------------------------------------------------+-----+------+------+------+----------+\n",
      "|email                   |senha     |estado|cor_favorita|profissao                  |format_string                                         |instr|instr2|length|repeat|concat    |\n",
      "+------------------------+----------+------+------------+---------------------------+------------------------------------------------------+-----+------+------+------+----------+\n",
      "|pedro-lucas53@gmail.com |+7^7E%xFBc|RR    |Roxo        |Jogador De Golfe           |Olá pedro-lucas53@gmail.com, sua cor favorita é Roxo  |14   |15    |16    |RRRRRR|    RR    |\n",
      "|rezendeisaac@hotmail.com|_O_2GRnGOe|GO    |Ciano       |Atleta De Arremesso De Peso|Olá rezendeisaac@hotmail.com, sua cor favorita é Ciano|13   |0     |27    |GOGOGO|    GO    |\n",
      "|felipepires@uol.com.br  |*Aw5EOAvy9|MG    |Azul        |Papiloscopista             |Olá felipepires@uol.com.br, sua cor favorita é Azul   |12   |0     |14    |MGMGMG|    MG    |\n",
      "|stellamoraes@bol.com.br |mw0AWYAs#s|AC    |Marrom      |Aeromoça                   |Olá stellamoraes@bol.com.br, sua cor favorita é Marrom|13   |0     |8     |ACACAC|    AC    |\n",
      "|wcarvalho@ig.com.br     |pGD%!2Pq5X|AP    |Laranja     |Fonoaudiólogo              |Olá wcarvalho@ig.com.br, sua cor favorita é Laranja   |10   |0     |13    |APAPAP|    AP    |\n",
      "+------------------------+----------+------+------------+---------------------------+------------------------------------------------------+-----+------+------+------+----------+\n",
      "only showing top 5 rows\n",
      "\n"
     ]
    }
   ],
   "source": [
    "(\n",
    "    df\n",
    "    .withColumn('format_string', F.format_string('Olá %s, sua cor favorita é %s', df.email, df.cor_favorita))\n",
    "    # Retorna a posição de uma substring (letra) ocupa em uma string, retorno o primeiro que encontra\n",
    "    .withColumn('instr', F.instr(df.email, '@'))\n",
    "    .withColumn('instr2', F.instr(df.email, 'gmail'))\n",
    "    # Contabiliza quantos caracteres tem uma string\n",
    "    .withColumn('length', F.length(df.profissao))\n",
    "    # Repetir o valor de uma coluna por um determinado numero de vezes, no exemplo, repete o estado 3x\n",
    "    .withColumn('repeat', F.repeat(df.estado, 3))\n",
    "    # Aparar exesso de espaços de uma string\n",
    "    .withColumn('concat', F.concat(F.lit('    '), df.estado, F.lit('    ')))\n",
    "    #.withColumn('trim', F.trim())\n",
    ").show(5, False)"
   ]
  },
  {
   "cell_type": "code",
   "execution_count": 47,
   "metadata": {},
   "outputs": [
    {
     "name": "stdout",
     "output_type": "stream",
     "text": [
      "+------------------------+----------+------+------------+---------------------------+----------+----+\n",
      "|email                   |senha     |estado|cor_favorita|profissao                  |concat    |trim|\n",
      "+------------------------+----------+------+------------+---------------------------+----------+----+\n",
      "|pedro-lucas53@gmail.com |+7^7E%xFBc|RR    |Roxo        |Jogador De Golfe           |    RR    |RR  |\n",
      "|rezendeisaac@hotmail.com|_O_2GRnGOe|GO    |Ciano       |Atleta De Arremesso De Peso|    GO    |GO  |\n",
      "|felipepires@uol.com.br  |*Aw5EOAvy9|MG    |Azul        |Papiloscopista             |    MG    |MG  |\n",
      "|stellamoraes@bol.com.br |mw0AWYAs#s|AC    |Marrom      |Aeromoça                   |    AC    |AC  |\n",
      "|wcarvalho@ig.com.br     |pGD%!2Pq5X|AP    |Laranja     |Fonoaudiólogo              |    AP    |AP  |\n",
      "+------------------------+----------+------+------------+---------------------------+----------+----+\n",
      "only showing top 5 rows\n",
      "\n"
     ]
    }
   ],
   "source": [
    "(\n",
    "    df\n",
    "    # Aparar exesso de espaços de uma string\n",
    "    .withColumn('concat', F.concat(F.lit('    '), df.estado, F.lit('    ')))\n",
    "    .withColumn('trim', F.trim(F.col('concat')))\n",
    ").show(5, False)"
   ]
  },
  {
   "cell_type": "code",
   "execution_count": 52,
   "metadata": {},
   "outputs": [
    {
     "name": "stdout",
     "output_type": "stream",
     "text": [
      "+------------------------+----------+------+------------+---------------------------+----------+----------+\n",
      "|email                   |senha     |estado|cor_favorita|profissao                  |lpad      |rpad      |\n",
      "+------------------------+----------+------+------------+---------------------------+----------+----------+\n",
      "|pedro-lucas53@gmail.com |+7^7E%xFBc|RR    |Roxo        |Jogador De Golfe           |......Roxo|Roxo......|\n",
      "|rezendeisaac@hotmail.com|_O_2GRnGOe|GO    |Ciano       |Atleta De Arremesso De Peso|.....Ciano|Ciano.....|\n",
      "|felipepires@uol.com.br  |*Aw5EOAvy9|MG    |Azul        |Papiloscopista             |......Azul|Azul......|\n",
      "|stellamoraes@bol.com.br |mw0AWYAs#s|AC    |Marrom      |Aeromoça                   |....Marrom|Marrom....|\n",
      "|wcarvalho@ig.com.br     |pGD%!2Pq5X|AP    |Laranja     |Fonoaudiólogo              |...Laranja|Laranja...|\n",
      "+------------------------+----------+------+------------+---------------------------+----------+----------+\n",
      "only showing top 5 rows\n",
      "\n"
     ]
    }
   ],
   "source": [
    "(\n",
    "    df\n",
    "    # Preenche a coluna 'cor_favorita' com pontos (.) à esquerda até atingir um total de 10 caracteres\n",
    "    .withColumn('lpad', F.lpad(df.cor_favorita, 10, '.'))\n",
    "    # Preenche a coluna 'cor_favorita' com pontos (.) à direita até atingir um total de 10 caracteres\n",
    "    .withColumn('rpad', F.rpad(df.cor_favorita, 10, '.'))\n",
    ").show(5, False)"
   ]
  }
 ],
 "metadata": {
  "kernelspec": {
   "display_name": "Python 3",
   "language": "python",
   "name": "python3"
  },
  "language_info": {
   "codemirror_mode": {
    "name": "ipython",
    "version": 3
   },
   "file_extension": ".py",
   "mimetype": "text/x-python",
   "name": "python",
   "nbconvert_exporter": "python",
   "pygments_lexer": "ipython3",
   "version": "3.12.2"
  }
 },
 "nbformat": 4,
 "nbformat_minor": 2
}
