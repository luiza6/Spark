{
 "cells": [
  {
   "cell_type": "code",
   "execution_count": 1,
   "metadata": {},
   "outputs": [],
   "source": [
    "from pyspark.sql import SparkSession\n",
    "import pyspark.sql.functions as F "
   ]
  },
  {
   "cell_type": "code",
   "execution_count": 2,
   "metadata": {},
   "outputs": [],
   "source": [
    "spark = (\n",
    "    SparkSession.builder.appName('Aula 6 - FUNÇÕES NUMÉRICAS: Manipulando Números com Funções')\n",
    "    .config('spark.sql.repl.eagerEval.enabled', True)\n",
    "    .getOrCreate())"
   ]
  },
  {
   "cell_type": "code",
   "execution_count": 3,
   "metadata": {},
   "outputs": [
    {
     "data": {
      "text/html": [
       "\n",
       "            <div>\n",
       "                <p><b>SparkSession - in-memory</b></p>\n",
       "                \n",
       "        <div>\n",
       "            <p><b>SparkContext</b></p>\n",
       "\n",
       "            <p><a href=\"http://noteLuia:4040\">Spark UI</a></p>\n",
       "\n",
       "            <dl>\n",
       "              <dt>Version</dt>\n",
       "                <dd><code>v3.3.2</code></dd>\n",
       "              <dt>Master</dt>\n",
       "                <dd><code>local[*]</code></dd>\n",
       "              <dt>AppName</dt>\n",
       "                <dd><code>Aula 6</code></dd>\n",
       "            </dl>\n",
       "        </div>\n",
       "        \n",
       "            </div>\n",
       "        "
      ],
      "text/plain": [
       "<pyspark.sql.session.SparkSession at 0x1c6301bae10>"
      ]
     },
     "execution_count": 3,
     "metadata": {},
     "output_type": "execute_result"
    }
   ],
   "source": [
    "spark"
   ]
  },
  {
   "cell_type": "code",
   "execution_count": 7,
   "metadata": {},
   "outputs": [],
   "source": [
    "local_file = r'C:\\Users\\mluiz\\Documents\\05_Python\\PySpark\\datasets\\IMC.parquet'"
   ]
  },
  {
   "cell_type": "code",
   "execution_count": 8,
   "metadata": {},
   "outputs": [],
   "source": [
    "df = spark.read.parquet(local_file)"
   ]
  },
  {
   "cell_type": "code",
   "execution_count": 9,
   "metadata": {},
   "outputs": [
    {
     "name": "stdout",
     "output_type": "stream",
     "text": [
      "+-----------------+------+-----+\n",
      "|             nome|altura| peso|\n",
      "+-----------------+------+-----+\n",
      "| Pietra Fernandes|   176|97.88|\n",
      "|Ana Júlia da Rosa|   163|80.56|\n",
      "| Fernando Martins|   150|85.55|\n",
      "+-----------------+------+-----+\n",
      "only showing top 3 rows\n",
      "\n"
     ]
    }
   ],
   "source": [
    "df.show(3)"
   ]
  },
  {
   "cell_type": "code",
   "execution_count": 13,
   "metadata": {},
   "outputs": [
    {
     "name": "stdout",
     "output_type": "stream",
     "text": [
      "+-----------------+------+-----+-----+------+------+\n",
      "|             nome|altura| peso|round|round2|round3|\n",
      "+-----------------+------+-----+-----+------+------+\n",
      "| Pietra Fernandes|   176|97.88| 97.9| 97.88|  98.0|\n",
      "|Ana Júlia da Rosa|   163|80.56| 80.6| 80.56|  81.0|\n",
      "| Fernando Martins|   150|85.55| 85.6| 85.55|  86.0|\n",
      "|    Isis Silveira|   173| 70.1| 70.1|  70.1|  70.0|\n",
      "|    Cecília Porto|   190|93.42| 93.4| 93.42|  93.0|\n",
      "+-----------------+------+-----+-----+------+------+\n",
      "only showing top 5 rows\n",
      "\n"
     ]
    }
   ],
   "source": [
    "(\n",
    "    df\n",
    "    # Arredonda para a quantidade de casas decimais solicitadas\n",
    "    .withColumn('round', F.round(df.peso, 1))\n",
    "    # Como na tabela só tem dus casas decimais ele mantém o numero de casas da tabela\n",
    "    .withColumn('round2', F.round(df.peso, 3))\n",
    "    .withColumn('round3', F.round(df.peso, 0))\n",
    ").show(5)\n"
   ]
  },
  {
   "cell_type": "code",
   "execution_count": 22,
   "metadata": {},
   "outputs": [
    {
     "name": "stdout",
     "output_type": "stream",
     "text": [
      "+-----------------+------+-----+----+-----+---------------+---+-----------------+-----+-----------------+\n",
      "|             nome|altura| peso|ceil|floor|altura_negativa|abs|              pow| sqrt|              cub|\n",
      "+-----------------+------+-----+----+-----+---------------+---+-----------------+-----+-----------------+\n",
      "| Pietra Fernandes|   176|97.88|  98|   97|           -176|176|        9580.4944|97.88|4.608553712718047|\n",
      "|Ana Júlia da Rosa|   163|80.56|  81|   80|           -163|163|6489.913600000001|80.56| 4.31890004002472|\n",
      "| Fernando Martins|   150|85.55|  86|   85|           -150|150|        7318.8025|85.55| 4.40629264918563|\n",
      "|    Isis Silveira|   173| 70.1|  71|   70|           -173|173|4914.009999999999| 70.1|4.123246882827162|\n",
      "|    Cecília Porto|   190|93.42|  94|   93|           -190|190|8727.296400000001|93.42|4.537464995290367|\n",
      "+-----------------+------+-----+----+-----+---------------+---+-----------------+-----+-----------------+\n",
      "only showing top 5 rows\n",
      "\n"
     ]
    }
   ],
   "source": [
    "(\n",
    "    #Arredonda para o maior número inteiro mais próximo\n",
    "    df\n",
    "    .withColumn('ceil', F.ceil(df.peso))\n",
    "    #Arredonda para o menor número inteiro mais próximo\n",
    "    .withColumn('floor', F.floor(df.peso)) \n",
    "    # Deixa os numeros da coluna negativos\n",
    "    .withColumn('altura_negativa', -F.col('altura'))\n",
    "    # deixa os numeros da coluna positivos\n",
    "    .withColumn('abs', F.abs(F.col('altura_negativa'))) \n",
    "    # Eleva a potência\n",
    "    .withColumn('pow', F.pow(df.peso, 2))\n",
    "    # Descobrir a raiz quadrada\n",
    "    .withColumn('sqrt', F.sqrt(F.col('pow'))) \n",
    "    # Se quiser outra raiz é só elevar por 1/raiz, exemplo raiz cubica\n",
    "    .withColumn('cub', F.pow(df.peso, 1/3))   \n",
    ").show(5)"
   ]
  },
  {
   "cell_type": "code",
   "execution_count": 26,
   "metadata": {},
   "outputs": [
    {
     "name": "stdout",
     "output_type": "stream",
     "text": [
      "+-----------------+------+-----+-----+\n",
      "|             nome|altura| peso|  imc|\n",
      "+-----------------+------+-----+-----+\n",
      "| Pietra Fernandes|   176|97.88|54.43|\n",
      "|Ana Júlia da Rosa|   163|80.56|39.82|\n",
      "| Fernando Martins|   150|85.55|48.79|\n",
      "|    Isis Silveira|   173| 70.1| 28.4|\n",
      "|    Cecília Porto|   190|93.42|45.93|\n",
      "+-----------------+------+-----+-----+\n",
      "only showing top 5 rows\n",
      "\n"
     ]
    }
   ],
   "source": [
    "(\n",
    "    df\n",
    "    .withColumn('imc', F.round(F.pow(df.peso, 2)/df.altura,2))\n",
    ").show(5)"
   ]
  }
 ],
 "metadata": {
  "kernelspec": {
   "display_name": "Python 3",
   "language": "python",
   "name": "python3"
  },
  "language_info": {
   "codemirror_mode": {
    "name": "ipython",
    "version": 3
   },
   "file_extension": ".py",
   "mimetype": "text/x-python",
   "name": "python",
   "nbconvert_exporter": "python",
   "pygments_lexer": "ipython3",
   "version": "3.12.2"
  }
 },
 "nbformat": 4,
 "nbformat_minor": 2
}
