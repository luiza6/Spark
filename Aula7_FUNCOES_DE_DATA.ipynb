{
 "cells": [
  {
   "cell_type": "code",
   "execution_count": 1,
   "metadata": {},
   "outputs": [],
   "source": [
    "from pyspark.sql import SparkSession\n",
    "import pyspark.sql.functions as F "
   ]
  },
  {
   "cell_type": "code",
   "execution_count": 34,
   "metadata": {},
   "outputs": [],
   "source": [
    "spark = (\n",
    "    SparkSession.builder.appName('Aula 7 - FUNÇÕES DE DATA: Trabalhando com Datas com Funções')\n",
    "    .config('spark.sql.repl.eagerEval.enabled', True)\n",
    "    .getOrCreate())"
   ]
  },
  {
   "cell_type": "code",
   "execution_count": 3,
   "metadata": {},
   "outputs": [
    {
     "data": {
      "text/html": [
       "\n",
       "            <div>\n",
       "                <p><b>SparkSession - in-memory</b></p>\n",
       "                \n",
       "        <div>\n",
       "            <p><b>SparkContext</b></p>\n",
       "\n",
       "            <p><a href=\"http://noteLuia:4041\">Spark UI</a></p>\n",
       "\n",
       "            <dl>\n",
       "              <dt>Version</dt>\n",
       "                <dd><code>v3.3.2</code></dd>\n",
       "              <dt>Master</dt>\n",
       "                <dd><code>local[*]</code></dd>\n",
       "              <dt>AppName</dt>\n",
       "                <dd><code>Aula 7</code></dd>\n",
       "            </dl>\n",
       "        </div>\n",
       "        \n",
       "            </div>\n",
       "        "
      ],
      "text/plain": [
       "<pyspark.sql.session.SparkSession at 0x1f1f2bc21e0>"
      ]
     },
     "execution_count": 3,
     "metadata": {},
     "output_type": "execute_result"
    }
   ],
   "source": [
    "spark"
   ]
  },
  {
   "cell_type": "code",
   "execution_count": 4,
   "metadata": {},
   "outputs": [],
   "source": [
    "local_file = r'C:\\Users\\mluiz\\Documents\\05_Python\\PySpark\\datasets\\LOGINS.parquet'"
   ]
  },
  {
   "cell_type": "code",
   "execution_count": 8,
   "metadata": {},
   "outputs": [],
   "source": [
    "df = spark.read.parquet(local_file).select('data_de_nascimento', 'data_cadastro')"
   ]
  },
  {
   "cell_type": "code",
   "execution_count": 9,
   "metadata": {},
   "outputs": [
    {
     "name": "stdout",
     "output_type": "stream",
     "text": [
      "+------------------+-------------+\n",
      "|data_de_nascimento|data_cadastro|\n",
      "+------------------+-------------+\n",
      "|2006-12-18        |2023-02-26   |\n",
      "|1992-06-17        |2023-02-16   |\n",
      "|1921-11-11        |2023-01-02   |\n",
      "+------------------+-------------+\n",
      "only showing top 3 rows\n",
      "\n"
     ]
    }
   ],
   "source": [
    "df.show(3, False)"
   ]
  },
  {
   "cell_type": "code",
   "execution_count": 21,
   "metadata": {},
   "outputs": [
    {
     "name": "stdout",
     "output_type": "stream",
     "text": [
      "+------------------+-------------+----------+-----------+----------+----------+----------+----------+------------+--------------------+-----------+\n",
      "|data_de_nascimento|data_cadastro|add_months|add_months2|  date_add| date_add2|  date_sub| date_sub2|current_date|   current_timestamp|date_format|\n",
      "+------------------+-------------+----------+-----------+----------+----------+----------+----------+------------+--------------------+-----------+\n",
      "|        2006-12-18|   2023-02-26|2023-04-26| 2023-01-26|2023-03-13|2023-02-11|2023-02-11|2023-03-13|  2024-03-17|2024-03-17 17:03:...|   20230226|\n",
      "|        1992-06-17|   2023-02-16|2023-04-16| 2023-01-16|2023-03-03|2023-02-01|2023-02-01|2023-03-03|  2024-03-17|2024-03-17 17:03:...|   20230216|\n",
      "|        1921-11-11|   2023-01-02|2023-03-02| 2022-12-02|2023-01-17|2022-12-18|2022-12-18|2023-01-17|  2024-03-17|2024-03-17 17:03:...|   20230102|\n",
      "|        2021-06-01|   2023-01-08|2023-03-08| 2022-12-08|2023-01-23|2022-12-24|2022-12-24|2023-01-23|  2024-03-17|2024-03-17 17:03:...|   20230108|\n",
      "|        1969-10-28|   2023-02-14|2023-04-14| 2023-01-14|2023-03-01|2023-01-30|2023-01-30|2023-03-01|  2024-03-17|2024-03-17 17:03:...|   20230214|\n",
      "+------------------+-------------+----------+-----------+----------+----------+----------+----------+------------+--------------------+-----------+\n",
      "only showing top 5 rows\n",
      "\n"
     ]
    }
   ],
   "source": [
    "(\n",
    "    df\n",
    "    # Adiciona meses a uma coluna, peimeiro parametro é a coluna, e o segundo a qtd de meses que será adicionado\n",
    "    .withColumn('add_months', F.add_months(df.data_cadastro, 2))\n",
    "    .withColumn('add_months2', F.add_months(df.data_cadastro, -1))\n",
    "    # Adicionar dias\n",
    "    .withColumn('date_add', F.date_add(df.data_cadastro, 15))\n",
    "    .withColumn('date_add2', F.date_add(df.data_cadastro, -15))\n",
    "    .withColumn('date_sub', F.date_sub(df.data_cadastro, 15))\n",
    "    .withColumn('date_sub2', F.date_sub(df.data_cadastro, -15))\n",
    "    # Retornar a data atual do sistema\n",
    "    .withColumn('current_date', F.current_date())\n",
    "    # Retornar a data e a hora atual do sistema\n",
    "    .withColumn('current_timestamp', F.current_timestamp())\n",
    "    .withColumn('date_format', F.date_format(df.data_cadastro, 'yyyyMMdd'))\n",
    ").show(5)"
   ]
  },
  {
   "cell_type": "code",
   "execution_count": 27,
   "metadata": {},
   "outputs": [
    {
     "name": "stdout",
     "output_type": "stream",
     "text": [
      "+------------------+-------------+-----------+------------+------------+------------+------------+------------+----------------+\n",
      "|data_de_nascimento|data_cadastro|date_format|date_format1|date_format0|date_format3|date_format4|date_format5|date_format6    |\n",
      "+------------------+-------------+-----------+------------+------------+------------+------------+------------+----------------+\n",
      "|2006-12-18        |2023-02-26   |20230226   |2023226     |2023Feb26   |23Feb26     |23-Feb-26   |26/02/2023  |Sun, 26 Feb 2023|\n",
      "|1992-06-17        |2023-02-16   |20230216   |2023216     |2023Feb16   |23Feb16     |23-Feb-16   |16/02/2023  |Thu, 16 Feb 2023|\n",
      "|1921-11-11        |2023-01-02   |20230102   |202312      |2023Jan02   |23Jan02     |23-Jan-02   |02/01/2023  |Mon, 2 Jan 2023 |\n",
      "|2021-06-01        |2023-01-08   |20230108   |202318      |2023Jan08   |23Jan08     |23-Jan-08   |08/01/2023  |Sun, 8 Jan 2023 |\n",
      "|1969-10-28        |2023-02-14   |20230214   |2023214     |2023Feb14   |23Feb14     |23-Feb-14   |14/02/2023  |Tue, 14 Feb 2023|\n",
      "+------------------+-------------+-----------+------------+------------+------------+------------+------------+----------------+\n",
      "only showing top 5 rows\n",
      "\n"
     ]
    }
   ],
   "source": [
    "# Formatar data\n",
    "(\n",
    "    df\n",
    "    .withColumn('date_format', F.date_format(df.data_cadastro, 'yyyyMMdd'))\n",
    "    .withColumn('date_format1', F.date_format(df.data_cadastro, 'yMd'))\n",
    "    .withColumn('date_format0', F.date_format(df.data_cadastro, 'yyyyMMMdd'))\n",
    "    .withColumn('date_format3', F.date_format(df.data_cadastro, 'yyMMMdd'))\n",
    "    .withColumn('date_format4', F.date_format(df.data_cadastro, 'yy-MMM-dd'))\n",
    "    .withColumn('date_format5', F.date_format(df.data_cadastro, 'dd/MM/yyyy'))\n",
    "    .withColumn('date_format6', F.date_format(df.data_cadastro, 'E, d MMM yyyy'))\n",
    ").show(5, False)"
   ]
  },
  {
   "cell_type": "code",
   "execution_count": 44,
   "metadata": {},
   "outputs": [
    {
     "name": "stdout",
     "output_type": "stream",
     "text": [
      "+------------------+-------------+--------+--------------+----------+---------+----------+----+-----+----------+----------+----------+----------+\n",
      "|data_de_nascimento|data_cadastro|datediff|months_between|dayofmonth|dayofweek|weekofyear|year|month|  last_day|  next_day| make_date|   to_date|\n",
      "+------------------+-------------+--------+--------------+----------+---------+----------+----+-----+----------+----------+----------+----------+\n",
      "|        2006-12-18|   2023-02-26|    6299|  206.96774194|        18|        2|        51|2006|   12|2006-12-31|2006-12-25|2020-08-01|2018-05-24|\n",
      "|        1992-06-17|   2023-02-16|   11596|         381.0|        17|        4|        25|1992|    6|1992-06-30|1992-06-22|2020-08-01|2018-05-24|\n",
      "|        1921-11-11|   2023-01-02|   37382| 1228.19354839|        11|        6|        45|1921|   11|1921-11-30|1921-11-14|2020-08-01|2018-05-24|\n",
      "|        2021-06-01|   2023-01-08|    1020|   33.51612903|         1|        3|        22|2021|    6|2021-06-30|2021-06-07|2020-08-01|2018-05-24|\n",
      "|        1969-10-28|   2023-02-14|   19864|  652.64516129|        28|        3|        44|1969|   10|1969-10-31|1969-11-03|2020-08-01|2018-05-24|\n",
      "+------------------+-------------+--------+--------------+----------+---------+----------+----+-----+----------+----------+----------+----------+\n",
      "only showing top 5 rows\n",
      "\n"
     ]
    }
   ],
   "source": [
    "(\n",
    "    df\n",
    "    # Calcula a diferença entre uma data e outra, em dias\n",
    "    .withColumn('datediff', F.datediff(F.current_date(), df.data_de_nascimento))\n",
    "    # Calcula a diferença entre uma data e outra, em meses\n",
    "    .withColumn('months_between', F.months_between(F.current_date(), df.data_de_nascimento))\n",
    "    # Extrai dia do mês de uma data\n",
    "    .withColumn('dayofmonth', F.dayofmonth(df.data_de_nascimento))\n",
    "    # Extrai a semana do mês de uma data\n",
    "    .withColumn('dayofweek', F.dayofweek(df.data_de_nascimento))\n",
    "    # Extrai a semana do ano de uma data\n",
    "    .withColumn('weekofyear', F.weekofyear(df.data_de_nascimento))\n",
    "    # Extrai o ano de uma data\n",
    "    .withColumn('year', F.year(df.data_de_nascimento))\n",
    "    # Extrai o mês de uma data\n",
    "    .withColumn('month', F.month(df.data_de_nascimento))\n",
    "    # Ultimo dia do mê de uma data\n",
    "    .withColumn('last_day', F.last_day(df.data_de_nascimento))\n",
    "    # Dia subsequente de uma data, parametros, data e o tipo de dia subsequente, tipo , segunda, terça\n",
    "    .withColumn('next_day', F.next_day(df.data_de_nascimento, 'Mon'))\n",
    "    #Cria uma data\n",
    "    .withColumn('make_date', F.make_date(F.lit(2020), F.lit(8), F.lit(1)))\n",
    "    # Transforma uma string em uma data\n",
    "    .withColumn('to_date', F.to_date(F.lit('2018-05-24')))\n",
    "\n",
    ").show(5)"
   ]
  }
 ],
 "metadata": {
  "kernelspec": {
   "display_name": "Python 3",
   "language": "python",
   "name": "python3"
  },
  "language_info": {
   "codemirror_mode": {
    "name": "ipython",
    "version": 3
   },
   "file_extension": ".py",
   "mimetype": "text/x-python",
   "name": "python",
   "nbconvert_exporter": "python",
   "pygments_lexer": "ipython3",
   "version": "3.12.2"
  }
 },
 "nbformat": 4,
 "nbformat_minor": 2
}
