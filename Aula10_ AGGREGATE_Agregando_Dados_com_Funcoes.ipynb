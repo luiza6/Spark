{
 "cells": [
  {
   "cell_type": "code",
   "execution_count": 1,
   "metadata": {},
   "outputs": [],
   "source": [
    "from pyspark.sql import SparkSession\n",
    "import pyspark.sql.functions as F"
   ]
  },
  {
   "cell_type": "code",
   "execution_count": 3,
   "metadata": {},
   "outputs": [],
   "source": [
    "spark = SparkSession.builder.appName('AGGREGATE: Agregando Dados com Funções de Soma, Média, Contagem...').getOrCreate()"
   ]
  },
  {
   "cell_type": "code",
   "execution_count": 4,
   "metadata": {},
   "outputs": [
    {
     "data": {
      "text/html": [
       "\n",
       "            <div>\n",
       "                <p><b>SparkSession - in-memory</b></p>\n",
       "                \n",
       "        <div>\n",
       "            <p><b>SparkContext</b></p>\n",
       "\n",
       "            <p><a href=\"http://192.168.1.2:4043\">Spark UI</a></p>\n",
       "\n",
       "            <dl>\n",
       "              <dt>Version</dt>\n",
       "                <dd><code>v3.3.2</code></dd>\n",
       "              <dt>Master</dt>\n",
       "                <dd><code>local[*]</code></dd>\n",
       "              <dt>AppName</dt>\n",
       "                <dd><code>AGGREGATE: Agregando Dados com Funções de Soma, Média, Contagem...</code></dd>\n",
       "            </dl>\n",
       "        </div>\n",
       "        \n",
       "            </div>\n",
       "        "
      ],
      "text/plain": [
       "<pyspark.sql.session.SparkSession at 0x1fabe803200>"
      ]
     },
     "execution_count": 4,
     "metadata": {},
     "output_type": "execute_result"
    }
   ],
   "source": [
    "spark"
   ]
  },
  {
   "cell_type": "code",
   "execution_count": 5,
   "metadata": {},
   "outputs": [],
   "source": [
    "local_file = r'C:\\Users\\mluiz\\Documents\\05_Estudos_Programacao\\PySpark\\datasets\\LOGINS.parquet'"
   ]
  },
  {
   "cell_type": "code",
   "execution_count": 6,
   "metadata": {},
   "outputs": [],
   "source": [
    "df = spark.read.parquet(local_file)"
   ]
  },
  {
   "cell_type": "code",
   "execution_count": 8,
   "metadata": {},
   "outputs": [
    {
     "name": "stdout",
     "output_type": "stream",
     "text": [
      "+--------------+------------------------+----------+------------------+------+-------------+--------------+------------+---------------------------+-------------------+\n",
      "|cpf           |email                   |senha     |data_de_nascimento|estado|data_cadastro|ipv4          |cor_favorita|profissao                  |telefone           |\n",
      "+--------------+------------------------+----------+------------------+------+-------------+--------------+------------+---------------------------+-------------------+\n",
      "|981.507.362-12|pedro-lucas53@gmail.com |+7^7E%xFBc|2006-12-18        |RR    |2023-02-26   |99.107.250.210|Roxo        |Jogador De Golfe           |31 7785-4046       |\n",
      "|493.705.168-75|rezendeisaac@hotmail.com|_O_2GRnGOe|1992-06-17        |GO    |2023-02-16   |197.11.26.213 |Ciano       |Atleta De Arremesso De Peso|(031) 0803-6753    |\n",
      "|398.471.625-73|felipepires@uol.com.br  |*Aw5EOAvy9|1921-11-11        |MG    |2023-01-02   |181.90.63.58  |Azul        |Papiloscopista             |11 9674-0553       |\n",
      "|092.618.354-06|stellamoraes@bol.com.br |mw0AWYAs#s|2021-06-01        |AC    |2023-01-08   |26.121.127.94 |Marrom      |Aeromoça                   |+55 (071) 3033 9177|\n",
      "|509.427.136-99|wcarvalho@ig.com.br     |pGD%!2Pq5X|1969-10-28        |AP    |2023-02-14   |76.184.52.163 |Laranja     |Fonoaudiólogo              |+55 (071) 6272 2468|\n",
      "+--------------+------------------------+----------+------------------+------+-------------+--------------+------------+---------------------------+-------------------+\n",
      "only showing top 5 rows\n",
      "\n"
     ]
    }
   ],
   "source": [
    "df.show(5, False)"
   ]
  },
  {
   "cell_type": "code",
   "execution_count": 17,
   "metadata": {},
   "outputs": [
    {
     "name": "stdout",
     "output_type": "stream",
     "text": [
      "+--------------+------------------------+----------+------------------+------+-------------+--------------+------------+---------------------------+-------------------+---+---+\n",
      "|cpf           |email                   |senha     |data_de_nascimento|estado|data_cadastro|ipv4          |cor_favorita|profissao                  |telefone           |dia|num|\n",
      "+--------------+------------------------+----------+------------------+------+-------------+--------------+------------+---------------------------+-------------------+---+---+\n",
      "|981.507.362-12|pedro-lucas53@gmail.com |+7^7E%xFBc|2006-12-18        |RR    |2023-02-26   |99.107.250.210|Roxo        |Jogador De Golfe           |31 7785-4046       |18 |18 |\n",
      "|493.705.168-75|rezendeisaac@hotmail.com|_O_2GRnGOe|1992-06-17        |GO    |2023-02-16   |197.11.26.213 |Ciano       |Atleta De Arremesso De Peso|(031) 0803-6753    |17 |17 |\n",
      "|398.471.625-73|felipepires@uol.com.br  |*Aw5EOAvy9|1921-11-11        |MG    |2023-01-02   |181.90.63.58  |Azul        |Papiloscopista             |11 9674-0553       |11 |11 |\n",
      "|092.618.354-06|stellamoraes@bol.com.br |mw0AWYAs#s|2021-06-01        |AC    |2023-01-08   |26.121.127.94 |Marrom      |Aeromoça                   |+55 (071) 3033 9177|1  |1  |\n",
      "|509.427.136-99|wcarvalho@ig.com.br     |pGD%!2Pq5X|1969-10-28        |AP    |2023-02-14   |76.184.52.163 |Laranja     |Fonoaudiólogo              |+55 (071) 6272 2468|28 |28 |\n",
      "+--------------+------------------------+----------+------------------+------+-------------+--------------+------------+---------------------------+-------------------+---+---+\n",
      "only showing top 5 rows\n",
      "\n"
     ]
    }
   ],
   "source": [
    "df = df.withColumn('num', F.dayofmonth(df.data_de_nascimento))\n",
    "df.show(5, False)"
   ]
  },
  {
   "cell_type": "code",
   "execution_count": 25,
   "metadata": {},
   "outputs": [
    {
     "name": "stdout",
     "output_type": "stream",
     "text": [
      "+------------+--------+--------+------------------+--------+--------+-----------------+\n",
      "|cor_favorita|count(1)|sum(num)|          avg(num)|min(num)|max(num)| stddev_samp(num)|\n",
      "+------------+--------+--------+------------------+--------+--------+-----------------+\n",
      "|       Preto|      57|     893|15.666666666666666|       1|      31|9.158004565354158|\n",
      "|     Violeta|      47|     773|  16.4468085106383|       1|      31|8.609419792191972|\n",
      "|        Rosa|      81|    1146|14.148148148148149|       1|      31|8.153390569436604|\n",
      "|      Marrom|      62|     916|14.774193548387096|       1|      31|8.952368227455667|\n",
      "|       Ciano|      59|    1085|18.389830508474578|       1|      31| 9.02681245369735|\n",
      "|     Laranja|      53|     956|18.037735849056602|       1|      31|8.735344350904686|\n",
      "|        Azul|      76|    1295|17.039473684210527|       1|      31|9.107419377589803|\n",
      "| Verde Claro|      66|    1179|17.863636363636363|       1|      31|9.121211734002424|\n",
      "|        Roxo|      64|    1025|         16.015625|       1|      31|9.005275680364543|\n",
      "|      Branco|      66|    1085|16.439393939393938|       1|      31|9.907462281422465|\n",
      "|Verde Escuro|      65|    1103| 16.96923076923077|       1|      31| 8.96341388431542|\n",
      "| Azul Escuro|      62|    1042|16.806451612903224|       1|      31|9.289229987459422|\n",
      "|       Verde|      53|     858| 16.18867924528302|       1|      31|8.991569991629305|\n",
      "|     Magenta|      54|     935|17.314814814814813|       1|      29|8.871884941650764|\n",
      "|       Cinza|      75|    1208|16.106666666666666|       1|      31|8.658027572226912|\n",
      "|     Amarelo|      60|     828|              13.8|       1|      30| 9.34607685301019|\n",
      "+------------+--------+--------+------------------+--------+--------+-----------------+\n",
      "\n"
     ]
    }
   ],
   "source": [
    "df.groupBy(df.cor_favorita).agg(F.count('*'), F.sum('num'), F.avg('num'), F.min('num'), F.max('num'), F.stddev('num')).show()"
   ]
  },
  {
   "cell_type": "code",
   "execution_count": null,
   "metadata": {},
   "outputs": [],
   "source": []
  }
 ],
 "metadata": {
  "kernelspec": {
   "display_name": "Python 3",
   "language": "python",
   "name": "python3"
  },
  "language_info": {
   "codemirror_mode": {
    "name": "ipython",
    "version": 3
   },
   "file_extension": ".py",
   "mimetype": "text/x-python",
   "name": "python",
   "nbconvert_exporter": "python",
   "pygments_lexer": "ipython3",
   "version": "3.12.2"
  }
 },
 "nbformat": 4,
 "nbformat_minor": 2
}
