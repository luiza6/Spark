{
 "cells": [
  {
   "cell_type": "code",
   "execution_count": 5,
   "metadata": {},
   "outputs": [],
   "source": [
    "from pyspark.sql import SparkSession\n",
    "import pyspark.sql.functions as F "
   ]
  },
  {
   "cell_type": "code",
   "execution_count": 6,
   "metadata": {},
   "outputs": [],
   "source": [
    "spark = (\n",
    "    SparkSession.builder.appName('Aula 8 - ORDER BY: Classificando e Ordenando Dados de uma Tabela')\n",
    "    .config('spark.sql.repl.eagerEval.enabled', True)\n",
    "    .getOrCreate())"
   ]
  },
  {
   "cell_type": "code",
   "execution_count": 7,
   "metadata": {},
   "outputs": [
    {
     "data": {
      "text/html": [
       "\n",
       "            <div>\n",
       "                <p><b>SparkSession - in-memory</b></p>\n",
       "                \n",
       "        <div>\n",
       "            <p><b>SparkContext</b></p>\n",
       "\n",
       "            <p><a href=\"http://192.168.1.2:4041\">Spark UI</a></p>\n",
       "\n",
       "            <dl>\n",
       "              <dt>Version</dt>\n",
       "                <dd><code>v3.3.2</code></dd>\n",
       "              <dt>Master</dt>\n",
       "                <dd><code>local[*]</code></dd>\n",
       "              <dt>AppName</dt>\n",
       "                <dd><code>Aula 7 - FUNÇÕES DE DATA: Trabalhando com Datas com Funções</code></dd>\n",
       "            </dl>\n",
       "        </div>\n",
       "        \n",
       "            </div>\n",
       "        "
      ],
      "text/plain": [
       "<pyspark.sql.session.SparkSession at 0x1c1104be420>"
      ]
     },
     "execution_count": 7,
     "metadata": {},
     "output_type": "execute_result"
    }
   ],
   "source": [
    "spark"
   ]
  },
  {
   "cell_type": "code",
   "execution_count": 8,
   "metadata": {},
   "outputs": [],
   "source": [
    "local_file = r'C:\\Users\\mluiz\\Documents\\05_Estudos_Programacao\\PySpark\\datasets\\LOGINS.parquet'"
   ]
  },
  {
   "cell_type": "code",
   "execution_count": 11,
   "metadata": {},
   "outputs": [],
   "source": [
    "df = spark.read.parquet(local_file)"
   ]
  },
  {
   "cell_type": "code",
   "execution_count": 12,
   "metadata": {},
   "outputs": [
    {
     "name": "stdout",
     "output_type": "stream",
     "text": [
      "+--------------+------------------------+----------+------------------+------+-------------+--------------+------------+---------------------------+---------------+\n",
      "|cpf           |email                   |senha     |data_de_nascimento|estado|data_cadastro|ipv4          |cor_favorita|profissao                  |telefone       |\n",
      "+--------------+------------------------+----------+------------------+------+-------------+--------------+------------+---------------------------+---------------+\n",
      "|981.507.362-12|pedro-lucas53@gmail.com |+7^7E%xFBc|2006-12-18        |RR    |2023-02-26   |99.107.250.210|Roxo        |Jogador De Golfe           |31 7785-4046   |\n",
      "|493.705.168-75|rezendeisaac@hotmail.com|_O_2GRnGOe|1992-06-17        |GO    |2023-02-16   |197.11.26.213 |Ciano       |Atleta De Arremesso De Peso|(031) 0803-6753|\n",
      "|398.471.625-73|felipepires@uol.com.br  |*Aw5EOAvy9|1921-11-11        |MG    |2023-01-02   |181.90.63.58  |Azul        |Papiloscopista             |11 9674-0553   |\n",
      "+--------------+------------------------+----------+------------------+------+-------------+--------------+------------+---------------------------+---------------+\n",
      "only showing top 3 rows\n",
      "\n"
     ]
    }
   ],
   "source": [
    "df.show(3, False)"
   ]
  },
  {
   "cell_type": "code",
   "execution_count": 13,
   "metadata": {},
   "outputs": [
    {
     "name": "stdout",
     "output_type": "stream",
     "text": [
      "+--------------+--------------------+----------+------------------+------+-------------+---------------+------------+---------------+-------------------+\n",
      "|           cpf|               email|     senha|data_de_nascimento|estado|data_cadastro|           ipv4|cor_favorita|      profissao|           telefone|\n",
      "+--------------+--------------------+----------+------------------+------+-------------+---------------+------------+---------------+-------------------+\n",
      "|621.405.389-51| aaragao@hotmail.com|_JYL0DQtf2|        1914-01-28|    CE|   2023-02-14|  13.16.193.193|     Violeta|Mestre-De-Obras|    (084) 5160 2174|\n",
      "|634.205.971-34|aazevedo@yahoo.co...|&3HILwOn4R|        1924-09-25|    AL|   2023-03-09| 219.11.145.237|Verde Escuro|        Senador|+55 (061) 7082-6767|\n",
      "|298.356.041-42|  acardoso@gmail.com|$F7V+mgg**|        1935-12-02|    MS|   2023-01-07|184.215.220.225|       Preto|    Transcritor|+55 (021) 0076-2292|\n",
      "|341.698.720-96|acarvalho@uol.com.br|1jtUGOLd!X|        2006-06-22|    AL|   2023-02-23| 11.122.146.214|     Laranja|        Tenista|   +55 61 9832 2237|\n",
      "|208.754.391-79|  acosta@hotmail.com|!0CNLeSz_u|        1984-10-25|    SC|   2023-02-14|  20.111.50.200|     Amarelo|        Artesão|       71 6561 0125|\n",
      "+--------------+--------------------+----------+------------------+------+-------------+---------------+------------+---------------+-------------------+\n",
      "only showing top 5 rows\n",
      "\n"
     ]
    }
   ],
   "source": [
    "df.orderBy(df.email).show(5)"
   ]
  },
  {
   "cell_type": "code",
   "execution_count": 14,
   "metadata": {},
   "outputs": [
    {
     "name": "stdout",
     "output_type": "stream",
     "text": [
      "+--------------+--------------------+----------+------------------+------+-------------+---------------+------------+--------------------+-------------------+\n",
      "|           cpf|               email|     senha|data_de_nascimento|estado|data_cadastro|           ipv4|cor_favorita|           profissao|           telefone|\n",
      "+--------------+--------------------+----------+------------------+------+-------------+---------------+------------+--------------------+-------------------+\n",
      "|012.469.857-30|diasrebeca@uol.co...|E%0%8VUeID|        1936-03-01|    MG|   2023-02-18|172.155.210.224|       Cinza|Engenheiro De Aqu...|    (041) 9158 0476|\n",
      "|013.625.947-25|portoemanuella@gm...|(9GaBA!veA|        1927-06-16|    MS|   2023-02-27|  191.169.17.63|        Azul|            Bombeiro|    (041) 5946 8685|\n",
      "|014.629.758-01|tmonteiro@bol.com.br|p*!xZ5Crgf|        2005-05-01|    SE|   2023-02-26|  181.210.4.149|       Cinza|       Cinematográfo|   +55 51 5499 7141|\n",
      "|014.875.623-90|ericksilva@yahoo....|0oq^0fDnCY|        1929-03-23|    MS|   2023-03-09| 53.127.111.205|      Marrom|          Violonista|    (021) 2115-4123|\n",
      "|015.289.376-86|xcardoso@hotmail.com|2oNEEO5G(H|        1916-09-11|    SC|   2023-02-07| 78.128.223.183|        Azul|Químico Farmacêutico|+55 (021) 5075-4981|\n",
      "+--------------+--------------------+----------+------------------+------+-------------+---------------+------------+--------------------+-------------------+\n",
      "only showing top 5 rows\n",
      "\n"
     ]
    }
   ],
   "source": [
    "df.orderBy(df.cpf).show(5)"
   ]
  },
  {
   "cell_type": "code",
   "execution_count": 15,
   "metadata": {},
   "outputs": [
    {
     "name": "stdout",
     "output_type": "stream",
     "text": [
      "+--------------+--------------------+----------+------------------+------+-------------+--------------+------------+----------------+-------------------+\n",
      "|           cpf|               email|     senha|data_de_nascimento|estado|data_cadastro|          ipv4|cor_favorita|       profissao|           telefone|\n",
      "+--------------+--------------------+----------+------------------+------+-------------+--------------+------------+----------------+-------------------+\n",
      "|293.850.471-32|camposclara@ig.co...|DP40gF#i!R|        1907-05-10|    RR|   2023-02-15|   4.23.95.210|        Rosa|Endocrinologista|+55 (061) 5335-3353|\n",
      "|824.165.730-71|alveserick@hotmai...|$n(MXjqh!0|        1907-05-26|    RO|   2023-02-19| 87.31.168.117|        Rosa|    Biotecnólogo|    (084) 9069 8763|\n",
      "|285.936.410-24|joao-guilherme49@...|(4V2Nz5Kn9|        1907-06-05|    CE|   2023-01-31|114.11.108.120|Verde Escuro|Produtor Musical|   +55 41 3546-4159|\n",
      "|905.218.674-01|cardosovalentina@...|84A6j^na$(|        1907-06-14|    AC|   2023-02-21|159.35.147.104|     Violeta|Gerente De Banco|       11 9994-5315|\n",
      "|953.162.047-43|augusto34@yahoo.c...|%0n@1(ql$B|        1907-07-14|    AP|   2023-02-28| 205.39.64.106|       Verde|         Lavador|+55 (041) 6667 6745|\n",
      "+--------------+--------------------+----------+------------------+------+-------------+--------------+------------+----------------+-------------------+\n",
      "only showing top 5 rows\n",
      "\n"
     ]
    }
   ],
   "source": [
    "df.orderBy(df.data_de_nascimento).show(5)"
   ]
  },
  {
   "cell_type": "code",
   "execution_count": 17,
   "metadata": {},
   "outputs": [
    {
     "name": "stdout",
     "output_type": "stream",
     "text": [
      "+--------------+--------------------+----------+------------------+------+-------------+-------------+------------+--------------------+-------------------+\n",
      "|           cpf|               email|     senha|data_de_nascimento|estado|data_cadastro|         ipv4|cor_favorita|           profissao|           telefone|\n",
      "+--------------+--------------------+----------+------------------+------+-------------+-------------+------------+--------------------+-------------------+\n",
      "|148.690.735-01|nunesisadora@ig.c...|l74G1OcM_2|        2023-03-15|    PA|   2023-03-08|153.213.160.1| Verde Claro|             Gourmet|   +55 21 6417 7678|\n",
      "|820.356.194-24|luiz-fernandomora...|@59B3hAxps|        2023-01-20|    RS|   2023-03-05|36.48.240.226|      Marrom|Radiooperador De Vôo|+55 (041) 8789-9421|\n",
      "|479.305.682-29|  ebarros@bol.com.br|@RJR#F9i40|        2022-11-28|    RO|   2023-02-05| 25.193.96.93|        Azul|         Esteticista|       51 8923 1493|\n",
      "|593.206.418-89|  alice27@bol.com.br|^CBQA4*v$1|        2022-11-28|    PE|   2023-03-11|155.80.98.177|       Preto|         Salva-Vidas|+55 (051) 8804 3153|\n",
      "|248.376.051-17|  dmoura@hotmail.com|k7&TpiJa%b|        2022-09-01|    RJ|   2023-02-25| 84.59.19.142|      Branco| Jogador De Handebol|+55 (021) 3753-6334|\n",
      "+--------------+--------------------+----------+------------------+------+-------------+-------------+------------+--------------------+-------------------+\n",
      "only showing top 5 rows\n",
      "\n"
     ]
    }
   ],
   "source": [
    "df.orderBy(F.desc(df.data_de_nascimento)).show(5)"
   ]
  },
  {
   "cell_type": "code",
   "execution_count": 22,
   "metadata": {},
   "outputs": [
    {
     "name": "stdout",
     "output_type": "stream",
     "text": [
      "+--------------+--------------------+----------+------------------+------+-------------+--------------+------------+--------------------+-------------------+\n",
      "|           cpf|               email|     senha|data_de_nascimento|estado|data_cadastro|          ipv4|cor_favorita|           profissao|           telefone|\n",
      "+--------------+--------------------+----------+------------------+------+-------------+--------------+------------+--------------------+-------------------+\n",
      "|392.615.704-61|luiz-henrique62@y...|NE+1Up(Iyx|        2022-01-12|    AC|   2023-03-14|  78.158.15.10|        Roxo|            Oculista|   +55 11 4782-0994|\n",
      "|142.736.905-43|giovanna93@hotmai...|#2OOj7Xr!(|        1915-01-04|    AC|   2023-03-12|168.111.57.162| Azul Escuro|            Manicure|    (021) 0760 7078|\n",
      "|245.891.307-50|souzamaria-luiza@...|f!Yj8Whpal|        1992-03-19|    AC|   2023-03-12| 90.220.127.58|        Rosa|        Nutrologista|+55 (071) 9265 9745|\n",
      "|651.804.729-11|mariateixeira@hot...|&LpKf0Fcx3|        1976-05-15|    AC|   2023-03-12|65.188.181.106|       Cinza|Montador De Negat...|+55 (071) 0906-0892|\n",
      "|147.205.986-76|da-costacaue@uol....|%6WdeNdMw9|        1926-06-07|    AC|   2023-03-11| 167.31.42.184|     Magenta|    Gerente De Banco|+55 (051) 3801-1396|\n",
      "|210.549.367-06|    ana23@uol.com.br|&#6ZAkAKWh|        1958-04-06|    AC|   2023-03-09|38.117.200.190|       Verde|         Kite-Surfer|    (011) 2149 3857|\n",
      "|496.703.258-38|nuneskevin@bol.co...|t2ZhCYvQ(N|        1979-07-19|    AC|   2023-03-07| 147.47.117.28|        Rosa|           Motorista|       81 2452 1195|\n",
      "|016.742.385-17|sofiamelo@yahoo.c...|j3McdEPn(N|        1955-11-10|    AC|   2023-02-27|  137.96.83.40|        Rosa|         Mecanógrafo|   +55 31 9595-5162|\n",
      "|275.638.901-30| heloisa87@gmail.com|&5t9Ip*bE$|        1958-12-08|    AC|   2023-02-23|165.151.118.25|        Roxo|            Cineasta|+55 (084) 7162 3094|\n",
      "|905.218.674-01|cardosovalentina@...|84A6j^na$(|        1907-06-14|    AC|   2023-02-21|159.35.147.104|     Violeta|    Gerente De Banco|       11 9994-5315|\n",
      "+--------------+--------------------+----------+------------------+------+-------------+--------------+------------+--------------------+-------------------+\n",
      "only showing top 10 rows\n",
      "\n"
     ]
    }
   ],
   "source": [
    "df.orderBy(df.estado, F.desc(df.data_cadastro)).show(10)"
   ]
  },
  {
   "cell_type": "code",
   "execution_count": 23,
   "metadata": {},
   "outputs": [
    {
     "name": "stdout",
     "output_type": "stream",
     "text": [
      "+--------------+--------------------+----------+------------------+------+-------------+---------------+------------+--------------------+-------------------+\n",
      "|           cpf|               email|     senha|data_de_nascimento|estado|data_cadastro|           ipv4|cor_favorita|           profissao|           telefone|\n",
      "+--------------+--------------------+----------+------------------+------+-------------+---------------+------------+--------------------+-------------------+\n",
      "|794.623.805-38|    ymoura@gmail.com|*bZGnLObY0|        1946-05-30|    AC|   2023-01-02|   22.66.90.218| Azul Escuro|Investigador Part...|    (051) 4288 6754|\n",
      "|573.809.621-59|novaesana-julia@h...|DfbV7W1^&4|        1972-08-15|    AC|   2023-01-04|208.213.179.222|     Laranja|             Tecelão|+55 (031) 6916 9086|\n",
      "|340.879.561-48|ana-vitoria98@gma...|i0_lIkL9)P|        1994-08-12|    AC|   2023-01-04|  121.45.91.188|      Marrom|Gestor De Recurso...|      0300 277 1989|\n",
      "|032.185.976-68|benjaminda-paz@ig...|(9l1UVIkot|        1966-12-12|    AC|   2023-01-06|   2.186.91.148| Azul Escuro|                Ator|   +55 51 8053 7792|\n",
      "|092.618.354-06|stellamoraes@bol....|mw0AWYAs#s|        2021-06-01|    AC|   2023-01-08|  26.121.127.94|      Marrom|            Aeromoça|+55 (071) 3033 9177|\n",
      "|471.980.623-69|    usales@gmail.com|d^Q%6WjKqH|        1958-04-06|    AC|   2023-01-08|  97.110.23.119|      Branco|       Administrador|    (071) 7881 3570|\n",
      "|069.382.471-96|bernardo78@gmail.com|2oQQtOOW!5|        2003-10-11|    AC|   2023-01-08|  153.126.72.36|        Roxo|               Major|       61 8633 7694|\n",
      "|852.637.194-00|  miguel01@gmail.com|*0H6kcApJz|        1980-01-26|    AC|   2023-01-11|  54.56.177.130|      Marrom|            Político|    (041) 7434-8164|\n",
      "|761.208.953-02|joanada-costa@uol...|K59n!CGwZ+|        1970-04-01|    AC|   2023-01-14| 130.246.237.68|        Rosa|Engenheiro Petroq...|      0500 075 5159|\n",
      "|613.948.520-70|   julia44@gmail.com|&asN*lDI2f|        1992-07-06|    AC|   2023-01-18|182.219.231.186|      Branco|            Manicure|   +55 21 9340 4355|\n",
      "+--------------+--------------------+----------+------------------+------+-------------+---------------+------------+--------------------+-------------------+\n",
      "only showing top 10 rows\n",
      "\n"
     ]
    }
   ],
   "source": [
    "df.orderBy(df.estado, df.data_cadastro).show(10)"
   ]
  },
  {
   "cell_type": "code",
   "execution_count": 24,
   "metadata": {},
   "outputs": [
    {
     "name": "stdout",
     "output_type": "stream",
     "text": [
      "+--------------+--------------------+----------+------------------+------+-------------+---------------+------------+--------------------+-------------------+\n",
      "|           cpf|               email|     senha|data_de_nascimento|estado|data_cadastro|           ipv4|cor_favorita|           profissao|           telefone|\n",
      "+--------------+--------------------+----------+------------------+------+-------------+---------------+------------+--------------------+-------------------+\n",
      "|714.695.023-99|limaguilherme@gma...|&p9NLZwe04|        1984-01-01|    TO|   2023-01-06|  106.243.24.25|      Marrom|         Antropólogo|+55 (061) 9921 7757|\n",
      "|598.210.743-32| uda-mata@uol.com.br|$2RMIjFv#%|        1926-09-24|    TO|   2023-01-08|    114.7.71.42|        Roxo|Químico Farmacêutico|       41 5875-1450|\n",
      "|208.367.915-68|brendacaldeira@ya...|cXn0ARuB(O|        1967-09-24|    TO|   2023-01-10| 207.26.140.226|     Amarelo|   Líder Comunitário|   +55 84 8553 5334|\n",
      "|036.285.147-62|andrenunes@uol.co...|4(43Kj2L^E|        2005-02-08|    TO|   2023-01-12|  130.46.156.16|        Roxo|Profissional De R...|      0500 852 3521|\n",
      "|182.465.039-60|thiagoribeiro@uol...|_6YG$puD!u|        1995-01-19|    TO|   2023-01-14|155.152.181.214|       Preto|      Gestor Público|       71 6300 0649|\n",
      "|143.672.859-28|caldeiraluigi@ig....|*k^5fZKmf*|        1967-06-10|    TO|   2023-01-15| 144.155.123.20|       Cinza|               Bedel|   +55 41 8047 0759|\n",
      "|794.130.268-31|laismoraes@ig.com.br|cnTD5DgF%^|        1951-07-05|    TO|   2023-01-16|  11.205.254.78| Azul Escuro|          Radialista|   +55 21 3504-4520|\n",
      "|028.159.743-04|  milena85@gmail.com|E27IYOi0%_|        1974-03-16|    TO|   2023-01-18| 77.154.129.139|        Rosa|Tecnólogo Em Pape...|+55 (061) 6319-6931|\n",
      "|726.893.105-03|da-motajoao-guilh...|#!5$OabuX7|        1949-02-14|    TO|   2023-01-23|191.161.170.167|       Ciano|           Bóia-Fria|       21 8070-9545|\n",
      "|184.679.502-85|  pcastro@bol.com.br|@43TYc!n(Z|        1991-07-31|    TO|   2023-01-25|   90.180.84.16| Verde Claro|      Meteorologista|   +55 51 8507 1297|\n",
      "+--------------+--------------------+----------+------------------+------+-------------+---------------+------------+--------------------+-------------------+\n",
      "only showing top 10 rows\n",
      "\n"
     ]
    }
   ],
   "source": [
    "df.orderBy(F.desc(df.estado), df.data_cadastro).show(10)"
   ]
  },
  {
   "cell_type": "code",
   "execution_count": 25,
   "metadata": {},
   "outputs": [
    {
     "name": "stdout",
     "output_type": "stream",
     "text": [
      "+--------------+--------------------+----------+------------------+------+-------------+---------------+------------+--------------------+-------------------+\n",
      "|           cpf|               email|     senha|data_de_nascimento|estado|data_cadastro|           ipv4|cor_favorita|           profissao|           telefone|\n",
      "+--------------+--------------------+----------+------------------+------+-------------+---------------+------------+--------------------+-------------------+\n",
      "|914.528.630-24|da-cruzjoaquim@gm...|v#o7OgfF&4|        1951-01-03|    SP|   2023-01-01|  82.252.94.185|       Cinza|           Ombudsman|    (031) 4940-4068|\n",
      "|125.308.764-44|lopesrafaela@hotm...|(hwWcPgLO8|        2021-08-16|    RR|   2023-01-01| 216.127.43.225|      Branco|Jogador De Tênis ...|       31 6370-9482|\n",
      "|534.708.926-10|    eporto@gmail.com|jv1_Ir)ff$|        1936-11-28|    PR|   2023-01-01| 145.135.186.66|     Laranja|        Serventuário|    (084) 4502 4464|\n",
      "|732.908.614-22|joao-guilhermemor...|3P&3HnbuG(|        1987-04-06|    PR|   2023-01-01|  96.60.227.194|       Cinza|Especialista Em A...|       71 3193 3975|\n",
      "|512.870.943-41|isabelda-paz@yaho...|x@00VLiG5D|        1984-12-09|    PR|   2023-01-01|   124.11.42.79|     Amarelo|           Repositor|       21 0744-8588|\n",
      "|532.967.804-83|moraesvinicius@uo...|$Cb6SUf4_C|        2019-08-04|    PA|   2023-01-01|   10.82.45.238|        Roxo|               Cumim|       51 0034 6144|\n",
      "|417.206.359-43|gustavo-henrique1...|t@9J#rQy+e|        2018-08-05|    GO|   2023-01-01| 164.92.218.202|     Laranja|          Arquivista|+55 (051) 2597-2224|\n",
      "|637.908.241-78| bryan63@hotmail.com|$p1S(oOcWT|        1918-04-15|    GO|   2023-01-01|  7.237.214.222|       Ciano|       Toxicologista|    (011) 3987-4490|\n",
      "|903.152.764-52| oda-luz@hotmail.com|h0YnAwro(8|        2000-04-19|    DF|   2023-01-01|145.209.252.166|     Violeta|Ajudante De Produção|      0300-066-6036|\n",
      "|064.527.981-11|milenadias@bol.co...|&a1Cns6(e_|        1978-12-12|    DF|   2023-01-01| 102.48.231.249|     Violeta|        Cabeleireiro|+55 (021) 3962 1510|\n",
      "+--------------+--------------------+----------+------------------+------+-------------+---------------+------------+--------------------+-------------------+\n",
      "only showing top 10 rows\n",
      "\n"
     ]
    }
   ],
   "source": [
    "df.orderBy(df.data_cadastro, F.desc(df.estado)).show(10)"
   ]
  },
  {
   "cell_type": "code",
   "execution_count": 26,
   "metadata": {},
   "outputs": [
    {
     "name": "stdout",
     "output_type": "stream",
     "text": [
      "+--------------+--------------------+----------+------------------+------+-------------+---------------+------------+--------------------+-------------------+\n",
      "|           cpf|               email|     senha|data_de_nascimento|estado|data_cadastro|           ipv4|cor_favorita|           profissao|           telefone|\n",
      "+--------------+--------------------+----------+------------------+------+-------------+---------------+------------+--------------------+-------------------+\n",
      "|092.487.536-47|vitor-hugo11@bol....|wv3h1GkyE$|        1947-03-13|    AM|   2023-01-01|  25.106.222.59|       Cinza|             Luthier|    (031) 8800 5662|\n",
      "|250.836.914-42|   bmelo@hotmail.com|Hf4LMTFr9#|        2011-07-24|    AP|   2023-01-01| 67.193.101.118|       Ciano|          Empresário|   +55 31 5578-0753|\n",
      "|170.236.845-90|francisco61@ig.co...|xL!Q9Afe5K|        2007-12-23|    CE|   2023-01-01|   88.208.86.64| Azul Escuro|            Escritor|   +55 41 6238-6168|\n",
      "|903.152.764-52| oda-luz@hotmail.com|h0YnAwro(8|        2000-04-19|    DF|   2023-01-01|145.209.252.166|     Violeta|Ajudante De Produção|      0300-066-6036|\n",
      "|064.527.981-11|milenadias@bol.co...|&a1Cns6(e_|        1978-12-12|    DF|   2023-01-01| 102.48.231.249|     Violeta|        Cabeleireiro|+55 (021) 3962 1510|\n",
      "|417.206.359-43|gustavo-henrique1...|t@9J#rQy+e|        2018-08-05|    GO|   2023-01-01| 164.92.218.202|     Laranja|          Arquivista|+55 (051) 2597-2224|\n",
      "|637.908.241-78| bryan63@hotmail.com|$p1S(oOcWT|        1918-04-15|    GO|   2023-01-01|  7.237.214.222|       Ciano|       Toxicologista|    (011) 3987-4490|\n",
      "|532.967.804-83|moraesvinicius@uo...|$Cb6SUf4_C|        2019-08-04|    PA|   2023-01-01|   10.82.45.238|        Roxo|               Cumim|       51 0034 6144|\n",
      "|732.908.614-22|joao-guilhermemor...|3P&3HnbuG(|        1987-04-06|    PR|   2023-01-01|  96.60.227.194|       Cinza|Especialista Em A...|       71 3193 3975|\n",
      "|534.708.926-10|    eporto@gmail.com|jv1_Ir)ff$|        1936-11-28|    PR|   2023-01-01| 145.135.186.66|     Laranja|        Serventuário|    (084) 4502 4464|\n",
      "+--------------+--------------------+----------+------------------+------+-------------+---------------+------------+--------------------+-------------------+\n",
      "only showing top 10 rows\n",
      "\n"
     ]
    }
   ],
   "source": [
    "df.orderBy(df.data_cadastro, df.estado).show(10)"
   ]
  }
 ],
 "metadata": {
  "kernelspec": {
   "display_name": "Python 3",
   "language": "python",
   "name": "python3"
  },
  "language_info": {
   "codemirror_mode": {
    "name": "ipython",
    "version": 3
   },
   "file_extension": ".py",
   "mimetype": "text/x-python",
   "name": "python",
   "nbconvert_exporter": "python",
   "pygments_lexer": "ipython3",
   "version": "3.12.2"
  }
 },
 "nbformat": 4,
 "nbformat_minor": 2
}
