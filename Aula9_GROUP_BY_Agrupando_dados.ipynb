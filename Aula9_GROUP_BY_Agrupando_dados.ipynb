{
 "cells": [
  {
   "cell_type": "code",
   "execution_count": 1,
   "metadata": {},
   "outputs": [],
   "source": [
    "from pyspark.sql import SparkSession\n",
    "import pyspark.sql.functions as F "
   ]
  },
  {
   "cell_type": "code",
   "execution_count": 2,
   "metadata": {},
   "outputs": [],
   "source": [
    "spark = (\n",
    "    SparkSession.builder.appName('Aula 9 - GROUP BY: Agrupando os dados de uma tabela')\n",
    "    .config('spark.sql.repl.eagerEval.enabled', True)\n",
    "    .getOrCreate())"
   ]
  },
  {
   "cell_type": "code",
   "execution_count": 3,
   "metadata": {},
   "outputs": [
    {
     "data": {
      "text/html": [
       "\n",
       "            <div>\n",
       "                <p><b>SparkSession - in-memory</b></p>\n",
       "                \n",
       "        <div>\n",
       "            <p><b>SparkContext</b></p>\n",
       "\n",
       "            <p><a href=\"http://192.168.1.2:4042\">Spark UI</a></p>\n",
       "\n",
       "            <dl>\n",
       "              <dt>Version</dt>\n",
       "                <dd><code>v3.3.2</code></dd>\n",
       "              <dt>Master</dt>\n",
       "                <dd><code>local[*]</code></dd>\n",
       "              <dt>AppName</dt>\n",
       "                <dd><code>Aula 9 - GROUP BY: Agrupando os dados de uma tabela</code></dd>\n",
       "            </dl>\n",
       "        </div>\n",
       "        \n",
       "            </div>\n",
       "        "
      ],
      "text/plain": [
       "<pyspark.sql.session.SparkSession at 0x239c74760c0>"
      ]
     },
     "execution_count": 3,
     "metadata": {},
     "output_type": "execute_result"
    }
   ],
   "source": [
    "spark"
   ]
  },
  {
   "cell_type": "code",
   "execution_count": 4,
   "metadata": {},
   "outputs": [],
   "source": [
    "local_file = r'C:\\Users\\mluiz\\Documents\\05_Estudos_Programacao\\PySpark\\datasets\\LOGINS.parquet'"
   ]
  },
  {
   "cell_type": "code",
   "execution_count": 10,
   "metadata": {},
   "outputs": [],
   "source": [
    "df = spark.read.parquet(local_file)"
   ]
  },
  {
   "cell_type": "code",
   "execution_count": 12,
   "metadata": {},
   "outputs": [
    {
     "name": "stdout",
     "output_type": "stream",
     "text": [
      "+--------------+------------------------+----------+------------------+------+-------------+--------------+------------+---------------------------+-------------------+\n",
      "|cpf           |email                   |senha     |data_de_nascimento|estado|data_cadastro|ipv4          |cor_favorita|profissao                  |telefone           |\n",
      "+--------------+------------------------+----------+------------------+------+-------------+--------------+------------+---------------------------+-------------------+\n",
      "|981.507.362-12|pedro-lucas53@gmail.com |+7^7E%xFBc|2006-12-18        |RR    |2023-02-26   |99.107.250.210|Roxo        |Jogador De Golfe           |31 7785-4046       |\n",
      "|493.705.168-75|rezendeisaac@hotmail.com|_O_2GRnGOe|1992-06-17        |GO    |2023-02-16   |197.11.26.213 |Ciano       |Atleta De Arremesso De Peso|(031) 0803-6753    |\n",
      "|398.471.625-73|felipepires@uol.com.br  |*Aw5EOAvy9|1921-11-11        |MG    |2023-01-02   |181.90.63.58  |Azul        |Papiloscopista             |11 9674-0553       |\n",
      "|092.618.354-06|stellamoraes@bol.com.br |mw0AWYAs#s|2021-06-01        |AC    |2023-01-08   |26.121.127.94 |Marrom      |Aeromoça                   |+55 (071) 3033 9177|\n",
      "|509.427.136-99|wcarvalho@ig.com.br     |pGD%!2Pq5X|1969-10-28        |AP    |2023-02-14   |76.184.52.163 |Laranja     |Fonoaudiólogo              |+55 (071) 6272 2468|\n",
      "+--------------+------------------------+----------+------------------+------+-------------+--------------+------------+---------------------------+-------------------+\n",
      "only showing top 5 rows\n",
      "\n"
     ]
    }
   ],
   "source": [
    "df.show(5, False)"
   ]
  },
  {
   "cell_type": "code",
   "execution_count": 13,
   "metadata": {},
   "outputs": [
    {
     "data": {
      "text/html": [
       "<table border='1'>\n",
       "<tr><th>cor_favorita</th><th>count</th></tr>\n",
       "<tr><td>Preto</td><td>57</td></tr>\n",
       "<tr><td>Violeta</td><td>47</td></tr>\n",
       "<tr><td>Rosa</td><td>81</td></tr>\n",
       "<tr><td>Marrom</td><td>62</td></tr>\n",
       "<tr><td>Ciano</td><td>59</td></tr>\n",
       "<tr><td>Laranja</td><td>53</td></tr>\n",
       "<tr><td>Azul</td><td>76</td></tr>\n",
       "<tr><td>Verde Claro</td><td>66</td></tr>\n",
       "<tr><td>Roxo</td><td>64</td></tr>\n",
       "<tr><td>Branco</td><td>66</td></tr>\n",
       "<tr><td>Verde Escuro</td><td>65</td></tr>\n",
       "<tr><td>Azul Escuro</td><td>62</td></tr>\n",
       "<tr><td>Verde</td><td>53</td></tr>\n",
       "<tr><td>Magenta</td><td>54</td></tr>\n",
       "<tr><td>Cinza</td><td>75</td></tr>\n",
       "<tr><td>Amarelo</td><td>60</td></tr>\n",
       "</table>\n"
      ],
      "text/plain": [
       "+------------+-----+\n",
       "|cor_favorita|count|\n",
       "+------------+-----+\n",
       "|       Preto|   57|\n",
       "|     Violeta|   47|\n",
       "|        Rosa|   81|\n",
       "|      Marrom|   62|\n",
       "|       Ciano|   59|\n",
       "|     Laranja|   53|\n",
       "|        Azul|   76|\n",
       "| Verde Claro|   66|\n",
       "|        Roxo|   64|\n",
       "|      Branco|   66|\n",
       "|Verde Escuro|   65|\n",
       "| Azul Escuro|   62|\n",
       "|       Verde|   53|\n",
       "|     Magenta|   54|\n",
       "|       Cinza|   75|\n",
       "|     Amarelo|   60|\n",
       "+------------+-----+"
      ]
     },
     "execution_count": 13,
     "metadata": {},
     "output_type": "execute_result"
    }
   ],
   "source": [
    "df.groupBy('cor_favorita').count()"
   ]
  },
  {
   "cell_type": "code",
   "execution_count": 24,
   "metadata": {},
   "outputs": [
    {
     "data": {
      "text/html": [
       "<table border='1'>\n",
       "<tr><th>cor_favorita</th><th>count</th></tr>\n",
       "<tr><td>Violeta</td><td>47</td></tr>\n",
       "<tr><td>Laranja</td><td>53</td></tr>\n",
       "<tr><td>Verde</td><td>53</td></tr>\n",
       "<tr><td>Magenta</td><td>54</td></tr>\n",
       "<tr><td>Preto</td><td>57</td></tr>\n",
       "<tr><td>Ciano</td><td>59</td></tr>\n",
       "<tr><td>Amarelo</td><td>60</td></tr>\n",
       "<tr><td>Marrom</td><td>62</td></tr>\n",
       "<tr><td>Azul Escuro</td><td>62</td></tr>\n",
       "<tr><td>Roxo</td><td>64</td></tr>\n",
       "<tr><td>Verde Escuro</td><td>65</td></tr>\n",
       "<tr><td>Verde Claro</td><td>66</td></tr>\n",
       "<tr><td>Branco</td><td>66</td></tr>\n",
       "<tr><td>Cinza</td><td>75</td></tr>\n",
       "<tr><td>Azul</td><td>76</td></tr>\n",
       "<tr><td>Rosa</td><td>81</td></tr>\n",
       "</table>\n"
      ],
      "text/plain": [
       "+------------+-----+\n",
       "|cor_favorita|count|\n",
       "+------------+-----+\n",
       "|     Violeta|   47|\n",
       "|     Laranja|   53|\n",
       "|       Verde|   53|\n",
       "|     Magenta|   54|\n",
       "|       Preto|   57|\n",
       "|       Ciano|   59|\n",
       "|     Amarelo|   60|\n",
       "|      Marrom|   62|\n",
       "| Azul Escuro|   62|\n",
       "|        Roxo|   64|\n",
       "|Verde Escuro|   65|\n",
       "| Verde Claro|   66|\n",
       "|      Branco|   66|\n",
       "|       Cinza|   75|\n",
       "|        Azul|   76|\n",
       "|        Rosa|   81|\n",
       "+------------+-----+"
      ]
     },
     "execution_count": 24,
     "metadata": {},
     "output_type": "execute_result"
    }
   ],
   "source": [
    "df.groupBy('cor_favorita').count().orderBy('count')"
   ]
  },
  {
   "cell_type": "code",
   "execution_count": 25,
   "metadata": {},
   "outputs": [
    {
     "data": {
      "text/html": [
       "<table border='1'>\n",
       "<tr><th>cor_favorita</th><th>count</th></tr>\n",
       "<tr><td>Rosa</td><td>81</td></tr>\n",
       "<tr><td>Azul</td><td>76</td></tr>\n",
       "<tr><td>Cinza</td><td>75</td></tr>\n",
       "<tr><td>Branco</td><td>66</td></tr>\n",
       "<tr><td>Verde Claro</td><td>66</td></tr>\n",
       "<tr><td>Verde Escuro</td><td>65</td></tr>\n",
       "<tr><td>Roxo</td><td>64</td></tr>\n",
       "<tr><td>Marrom</td><td>62</td></tr>\n",
       "<tr><td>Azul Escuro</td><td>62</td></tr>\n",
       "<tr><td>Amarelo</td><td>60</td></tr>\n",
       "<tr><td>Ciano</td><td>59</td></tr>\n",
       "<tr><td>Preto</td><td>57</td></tr>\n",
       "<tr><td>Magenta</td><td>54</td></tr>\n",
       "<tr><td>Laranja</td><td>53</td></tr>\n",
       "<tr><td>Verde</td><td>53</td></tr>\n",
       "<tr><td>Violeta</td><td>47</td></tr>\n",
       "</table>\n"
      ],
      "text/plain": [
       "+------------+-----+\n",
       "|cor_favorita|count|\n",
       "+------------+-----+\n",
       "|        Rosa|   81|\n",
       "|        Azul|   76|\n",
       "|       Cinza|   75|\n",
       "|      Branco|   66|\n",
       "| Verde Claro|   66|\n",
       "|Verde Escuro|   65|\n",
       "|        Roxo|   64|\n",
       "|      Marrom|   62|\n",
       "| Azul Escuro|   62|\n",
       "|     Amarelo|   60|\n",
       "|       Ciano|   59|\n",
       "|       Preto|   57|\n",
       "|     Magenta|   54|\n",
       "|     Laranja|   53|\n",
       "|       Verde|   53|\n",
       "|     Violeta|   47|\n",
       "+------------+-----+"
      ]
     },
     "execution_count": 25,
     "metadata": {},
     "output_type": "execute_result"
    }
   ],
   "source": [
    "df.groupBy('cor_favorita').count().orderBy(F.desc('count'))"
   ]
  },
  {
   "cell_type": "code",
   "execution_count": 14,
   "metadata": {},
   "outputs": [
    {
     "data": {
      "text/html": [
       "<table border='1'>\n",
       "<tr><th>estado</th><th>cor_favorita</th><th>count</th></tr>\n",
       "<tr><td>AM</td><td>Cinza</td><td>2</td></tr>\n",
       "<tr><td>MA</td><td>Ciano</td><td>1</td></tr>\n",
       "<tr><td>AC</td><td>Ciano</td><td>1</td></tr>\n",
       "<tr><td>RS</td><td>Roxo</td><td>1</td></tr>\n",
       "<tr><td>RJ</td><td>Azul</td><td>4</td></tr>\n",
       "<tr><td>ES</td><td>Verde Claro</td><td>2</td></tr>\n",
       "<tr><td>CE</td><td>Azul</td><td>5</td></tr>\n",
       "<tr><td>AM</td><td>Marrom</td><td>6</td></tr>\n",
       "<tr><td>AP</td><td>Preto</td><td>2</td></tr>\n",
       "<tr><td>MA</td><td>Verde Escuro</td><td>2</td></tr>\n",
       "<tr><td>SP</td><td>Verde Claro</td><td>7</td></tr>\n",
       "<tr><td>GO</td><td>Branco</td><td>2</td></tr>\n",
       "<tr><td>RN</td><td>Amarelo</td><td>1</td></tr>\n",
       "<tr><td>PR</td><td>Verde</td><td>1</td></tr>\n",
       "<tr><td>DF</td><td>Ciano</td><td>1</td></tr>\n",
       "<tr><td>PA</td><td>Laranja</td><td>3</td></tr>\n",
       "<tr><td>TO</td><td>Rosa</td><td>3</td></tr>\n",
       "<tr><td>TO</td><td>Branco</td><td>1</td></tr>\n",
       "<tr><td>RJ</td><td>Preto</td><td>2</td></tr>\n",
       "<tr><td>RO</td><td>Amarelo</td><td>1</td></tr>\n",
       "</table>\n",
       "only showing top 20 rows\n"
      ],
      "text/plain": [
       "+------+------------+-----+\n",
       "|estado|cor_favorita|count|\n",
       "+------+------------+-----+\n",
       "|    AM|       Cinza|    2|\n",
       "|    MA|       Ciano|    1|\n",
       "|    AC|       Ciano|    1|\n",
       "|    RS|        Roxo|    1|\n",
       "|    RJ|        Azul|    4|\n",
       "|    ES| Verde Claro|    2|\n",
       "|    CE|        Azul|    5|\n",
       "|    AM|      Marrom|    6|\n",
       "|    AP|       Preto|    2|\n",
       "|    MA|Verde Escuro|    2|\n",
       "|    SP| Verde Claro|    7|\n",
       "|    GO|      Branco|    2|\n",
       "|    RN|     Amarelo|    1|\n",
       "|    PR|       Verde|    1|\n",
       "|    DF|       Ciano|    1|\n",
       "|    PA|     Laranja|    3|\n",
       "|    TO|        Rosa|    3|\n",
       "|    TO|      Branco|    1|\n",
       "|    RJ|       Preto|    2|\n",
       "|    RO|     Amarelo|    1|\n",
       "+------+------------+-----+\n",
       "only showing top 20 rows"
      ]
     },
     "execution_count": 14,
     "metadata": {},
     "output_type": "execute_result"
    }
   ],
   "source": [
    "df.groupBy('estado','cor_favorita').count()"
   ]
  },
  {
   "cell_type": "code",
   "execution_count": 26,
   "metadata": {},
   "outputs": [
    {
     "data": {
      "text/html": [
       "<table border='1'>\n",
       "<tr><th>estado</th><th>cor_favorita</th><th>count</th></tr>\n",
       "<tr><td>AC</td><td>Preto</td><td>4</td></tr>\n",
       "<tr><td>AC</td><td>Verde</td><td>2</td></tr>\n",
       "<tr><td>AC</td><td>Magenta</td><td>1</td></tr>\n",
       "<tr><td>AC</td><td>Ciano</td><td>1</td></tr>\n",
       "<tr><td>AC</td><td>Marrom</td><td>5</td></tr>\n",
       "<tr><td>AC</td><td>Laranja</td><td>1</td></tr>\n",
       "<tr><td>AC</td><td>Branco</td><td>4</td></tr>\n",
       "<tr><td>AC</td><td>Violeta</td><td>1</td></tr>\n",
       "<tr><td>AC</td><td>Rosa</td><td>4</td></tr>\n",
       "<tr><td>AC</td><td>Roxo</td><td>3</td></tr>\n",
       "<tr><td>AC</td><td>Amarelo</td><td>1</td></tr>\n",
       "<tr><td>AC</td><td>Azul</td><td>4</td></tr>\n",
       "<tr><td>AC</td><td>Cinza</td><td>1</td></tr>\n",
       "<tr><td>AC</td><td>Azul Escuro</td><td>5</td></tr>\n",
       "<tr><td>AL</td><td>Preto</td><td>1</td></tr>\n",
       "<tr><td>AL</td><td>Cinza</td><td>3</td></tr>\n",
       "<tr><td>AL</td><td>Verde Escuro</td><td>5</td></tr>\n",
       "<tr><td>AL</td><td>Roxo</td><td>2</td></tr>\n",
       "<tr><td>AL</td><td>Amarelo</td><td>2</td></tr>\n",
       "<tr><td>AL</td><td>Azul Escuro</td><td>3</td></tr>\n",
       "</table>\n",
       "only showing top 20 rows\n"
      ],
      "text/plain": [
       "+------+------------+-----+\n",
       "|estado|cor_favorita|count|\n",
       "+------+------------+-----+\n",
       "|    AC|       Preto|    4|\n",
       "|    AC|       Verde|    2|\n",
       "|    AC|     Magenta|    1|\n",
       "|    AC|       Ciano|    1|\n",
       "|    AC|      Marrom|    5|\n",
       "|    AC|     Laranja|    1|\n",
       "|    AC|      Branco|    4|\n",
       "|    AC|     Violeta|    1|\n",
       "|    AC|        Rosa|    4|\n",
       "|    AC|        Roxo|    3|\n",
       "|    AC|     Amarelo|    1|\n",
       "|    AC|        Azul|    4|\n",
       "|    AC|       Cinza|    1|\n",
       "|    AC| Azul Escuro|    5|\n",
       "|    AL|       Preto|    1|\n",
       "|    AL|       Cinza|    3|\n",
       "|    AL|Verde Escuro|    5|\n",
       "|    AL|        Roxo|    2|\n",
       "|    AL|     Amarelo|    2|\n",
       "|    AL| Azul Escuro|    3|\n",
       "+------+------------+-----+\n",
       "only showing top 20 rows"
      ]
     },
     "execution_count": 26,
     "metadata": {},
     "output_type": "execute_result"
    }
   ],
   "source": [
    "df.groupBy('estado','cor_favorita').count().orderBy('estado')"
   ]
  },
  {
   "cell_type": "code",
   "execution_count": 27,
   "metadata": {},
   "outputs": [
    {
     "data": {
      "text/html": [
       "<table border='1'>\n",
       "<tr><th>estado</th><th>cor_favorita</th><th>count</th></tr>\n",
       "<tr><td>SP</td><td>Amarelo</td><td>5</td></tr>\n",
       "<tr><td>RN</td><td>Amarelo</td><td>1</td></tr>\n",
       "<tr><td>RO</td><td>Amarelo</td><td>1</td></tr>\n",
       "<tr><td>MG</td><td>Amarelo</td><td>2</td></tr>\n",
       "<tr><td>DF</td><td>Amarelo</td><td>4</td></tr>\n",
       "<tr><td>PE</td><td>Amarelo</td><td>2</td></tr>\n",
       "<tr><td>AC</td><td>Amarelo</td><td>1</td></tr>\n",
       "<tr><td>RS</td><td>Amarelo</td><td>3</td></tr>\n",
       "<tr><td>SE</td><td>Amarelo</td><td>1</td></tr>\n",
       "<tr><td>RJ</td><td>Amarelo</td><td>2</td></tr>\n",
       "<tr><td>TO</td><td>Amarelo</td><td>5</td></tr>\n",
       "<tr><td>ES</td><td>Amarelo</td><td>1</td></tr>\n",
       "<tr><td>AL</td><td>Amarelo</td><td>2</td></tr>\n",
       "<tr><td>PB</td><td>Amarelo</td><td>4</td></tr>\n",
       "<tr><td>CE</td><td>Amarelo</td><td>1</td></tr>\n",
       "<tr><td>BA</td><td>Amarelo</td><td>2</td></tr>\n",
       "<tr><td>GO</td><td>Amarelo</td><td>5</td></tr>\n",
       "<tr><td>AM</td><td>Amarelo</td><td>1</td></tr>\n",
       "<tr><td>RR</td><td>Amarelo</td><td>2</td></tr>\n",
       "<tr><td>MA</td><td>Amarelo</td><td>3</td></tr>\n",
       "</table>\n",
       "only showing top 20 rows\n"
      ],
      "text/plain": [
       "+------+------------+-----+\n",
       "|estado|cor_favorita|count|\n",
       "+------+------------+-----+\n",
       "|    SP|     Amarelo|    5|\n",
       "|    RN|     Amarelo|    1|\n",
       "|    RO|     Amarelo|    1|\n",
       "|    MG|     Amarelo|    2|\n",
       "|    DF|     Amarelo|    4|\n",
       "|    PE|     Amarelo|    2|\n",
       "|    AC|     Amarelo|    1|\n",
       "|    RS|     Amarelo|    3|\n",
       "|    SE|     Amarelo|    1|\n",
       "|    RJ|     Amarelo|    2|\n",
       "|    TO|     Amarelo|    5|\n",
       "|    ES|     Amarelo|    1|\n",
       "|    AL|     Amarelo|    2|\n",
       "|    PB|     Amarelo|    4|\n",
       "|    CE|     Amarelo|    1|\n",
       "|    BA|     Amarelo|    2|\n",
       "|    GO|     Amarelo|    5|\n",
       "|    AM|     Amarelo|    1|\n",
       "|    RR|     Amarelo|    2|\n",
       "|    MA|     Amarelo|    3|\n",
       "+------+------------+-----+\n",
       "only showing top 20 rows"
      ]
     },
     "execution_count": 27,
     "metadata": {},
     "output_type": "execute_result"
    }
   ],
   "source": [
    "df.groupBy('estado','cor_favorita').count().orderBy('cor_favorita')"
   ]
  },
  {
   "cell_type": "code",
   "execution_count": 28,
   "metadata": {},
   "outputs": [
    {
     "data": {
      "text/html": [
       "<table border='1'>\n",
       "<tr><th>estado</th><th>cor_favorita</th><th>count</th></tr>\n",
       "<tr><td>AC</td><td>Amarelo</td><td>1</td></tr>\n",
       "<tr><td>AC</td><td>Azul</td><td>4</td></tr>\n",
       "<tr><td>AC</td><td>Azul Escuro</td><td>5</td></tr>\n",
       "<tr><td>AC</td><td>Branco</td><td>4</td></tr>\n",
       "<tr><td>AC</td><td>Ciano</td><td>1</td></tr>\n",
       "<tr><td>AC</td><td>Cinza</td><td>1</td></tr>\n",
       "<tr><td>AC</td><td>Laranja</td><td>1</td></tr>\n",
       "<tr><td>AC</td><td>Magenta</td><td>1</td></tr>\n",
       "<tr><td>AC</td><td>Marrom</td><td>5</td></tr>\n",
       "<tr><td>AC</td><td>Preto</td><td>4</td></tr>\n",
       "<tr><td>AC</td><td>Rosa</td><td>4</td></tr>\n",
       "<tr><td>AC</td><td>Roxo</td><td>3</td></tr>\n",
       "<tr><td>AC</td><td>Verde</td><td>2</td></tr>\n",
       "<tr><td>AC</td><td>Violeta</td><td>1</td></tr>\n",
       "<tr><td>AL</td><td>Amarelo</td><td>2</td></tr>\n",
       "<tr><td>AL</td><td>Azul</td><td>3</td></tr>\n",
       "<tr><td>AL</td><td>Azul Escuro</td><td>3</td></tr>\n",
       "<tr><td>AL</td><td>Ciano</td><td>1</td></tr>\n",
       "<tr><td>AL</td><td>Cinza</td><td>3</td></tr>\n",
       "<tr><td>AL</td><td>Laranja</td><td>3</td></tr>\n",
       "</table>\n",
       "only showing top 20 rows\n"
      ],
      "text/plain": [
       "+------+------------+-----+\n",
       "|estado|cor_favorita|count|\n",
       "+------+------------+-----+\n",
       "|    AC|     Amarelo|    1|\n",
       "|    AC|        Azul|    4|\n",
       "|    AC| Azul Escuro|    5|\n",
       "|    AC|      Branco|    4|\n",
       "|    AC|       Ciano|    1|\n",
       "|    AC|       Cinza|    1|\n",
       "|    AC|     Laranja|    1|\n",
       "|    AC|     Magenta|    1|\n",
       "|    AC|      Marrom|    5|\n",
       "|    AC|       Preto|    4|\n",
       "|    AC|        Rosa|    4|\n",
       "|    AC|        Roxo|    3|\n",
       "|    AC|       Verde|    2|\n",
       "|    AC|     Violeta|    1|\n",
       "|    AL|     Amarelo|    2|\n",
       "|    AL|        Azul|    3|\n",
       "|    AL| Azul Escuro|    3|\n",
       "|    AL|       Ciano|    1|\n",
       "|    AL|       Cinza|    3|\n",
       "|    AL|     Laranja|    3|\n",
       "+------+------------+-----+\n",
       "only showing top 20 rows"
      ]
     },
     "execution_count": 28,
     "metadata": {},
     "output_type": "execute_result"
    }
   ],
   "source": [
    "df.groupBy('estado','cor_favorita').count().orderBy('estado','cor_favorita')"
   ]
  },
  {
   "cell_type": "code",
   "execution_count": 21,
   "metadata": {},
   "outputs": [
    {
     "data": {
      "text/html": [
       "<table border='1'>\n",
       "<tr><th>estado</th><th>avg(count)</th></tr>\n",
       "<tr><td>SC</td><td>3.142857142857143</td></tr>\n",
       "<tr><td>RO</td><td>2.4375</td></tr>\n",
       "<tr><td>PI</td><td>2.5</td></tr>\n",
       "<tr><td>AM</td><td>2.4285714285714284</td></tr>\n",
       "<tr><td>RR</td><td>2.5384615384615383</td></tr>\n",
       "<tr><td>GO</td><td>2.8125</td></tr>\n",
       "<tr><td>TO</td><td>2.4285714285714284</td></tr>\n",
       "<tr><td>MT</td><td>2.0714285714285716</td></tr>\n",
       "<tr><td>SP</td><td>3.2666666666666666</td></tr>\n",
       "<tr><td>ES</td><td>2.533333333333333</td></tr>\n",
       "<tr><td>PB</td><td>2.2666666666666666</td></tr>\n",
       "<tr><td>RS</td><td>2.6</td></tr>\n",
       "<tr><td>MS</td><td>3.0</td></tr>\n",
       "<tr><td>AL</td><td>2.4</td></tr>\n",
       "<tr><td>MG</td><td>2.875</td></tr>\n",
       "<tr><td>PA</td><td>2.0</td></tr>\n",
       "<tr><td>BA</td><td>3.0</td></tr>\n",
       "<tr><td>SE</td><td>2.933333333333333</td></tr>\n",
       "<tr><td>PE</td><td>2.4285714285714284</td></tr>\n",
       "<tr><td>CE</td><td>2.8125</td></tr>\n",
       "</table>\n",
       "only showing top 20 rows\n"
      ],
      "text/plain": [
       "+------+------------------+\n",
       "|estado|        avg(count)|\n",
       "+------+------------------+\n",
       "|    SC| 3.142857142857143|\n",
       "|    RO|            2.4375|\n",
       "|    PI|               2.5|\n",
       "|    AM|2.4285714285714284|\n",
       "|    RR|2.5384615384615383|\n",
       "|    GO|            2.8125|\n",
       "|    TO|2.4285714285714284|\n",
       "|    MT|2.0714285714285716|\n",
       "|    SP|3.2666666666666666|\n",
       "|    ES| 2.533333333333333|\n",
       "|    PB|2.2666666666666666|\n",
       "|    RS|               2.6|\n",
       "|    MS|               3.0|\n",
       "|    AL|               2.4|\n",
       "|    MG|             2.875|\n",
       "|    PA|               2.0|\n",
       "|    BA|               3.0|\n",
       "|    SE| 2.933333333333333|\n",
       "|    PE|2.4285714285714284|\n",
       "|    CE|            2.8125|\n",
       "+------+------------------+\n",
       "only showing top 20 rows"
      ]
     },
     "execution_count": 21,
     "metadata": {},
     "output_type": "execute_result"
    }
   ],
   "source": [
    "df.groupBy('estado','cor_favorita').count().groupBy('estado').avg('count')"
   ]
  },
  {
   "cell_type": "code",
   "execution_count": 22,
   "metadata": {},
   "outputs": [
    {
     "data": {
      "text/html": [
       "<table border='1'>\n",
       "<tr><th>estado</th><th>min(count)</th></tr>\n",
       "<tr><td>SC</td><td>1</td></tr>\n",
       "<tr><td>RO</td><td>1</td></tr>\n",
       "<tr><td>PI</td><td>1</td></tr>\n",
       "<tr><td>AM</td><td>1</td></tr>\n",
       "<tr><td>RR</td><td>1</td></tr>\n",
       "<tr><td>GO</td><td>1</td></tr>\n",
       "<tr><td>TO</td><td>1</td></tr>\n",
       "<tr><td>MT</td><td>1</td></tr>\n",
       "<tr><td>SP</td><td>1</td></tr>\n",
       "<tr><td>ES</td><td>1</td></tr>\n",
       "<tr><td>PB</td><td>1</td></tr>\n",
       "<tr><td>RS</td><td>1</td></tr>\n",
       "<tr><td>MS</td><td>1</td></tr>\n",
       "<tr><td>AL</td><td>1</td></tr>\n",
       "<tr><td>MG</td><td>1</td></tr>\n",
       "<tr><td>PA</td><td>1</td></tr>\n",
       "<tr><td>BA</td><td>1</td></tr>\n",
       "<tr><td>SE</td><td>1</td></tr>\n",
       "<tr><td>PE</td><td>1</td></tr>\n",
       "<tr><td>CE</td><td>1</td></tr>\n",
       "</table>\n",
       "only showing top 20 rows\n"
      ],
      "text/plain": [
       "+------+----------+\n",
       "|estado|min(count)|\n",
       "+------+----------+\n",
       "|    SC|         1|\n",
       "|    RO|         1|\n",
       "|    PI|         1|\n",
       "|    AM|         1|\n",
       "|    RR|         1|\n",
       "|    GO|         1|\n",
       "|    TO|         1|\n",
       "|    MT|         1|\n",
       "|    SP|         1|\n",
       "|    ES|         1|\n",
       "|    PB|         1|\n",
       "|    RS|         1|\n",
       "|    MS|         1|\n",
       "|    AL|         1|\n",
       "|    MG|         1|\n",
       "|    PA|         1|\n",
       "|    BA|         1|\n",
       "|    SE|         1|\n",
       "|    PE|         1|\n",
       "|    CE|         1|\n",
       "+------+----------+\n",
       "only showing top 20 rows"
      ]
     },
     "execution_count": 22,
     "metadata": {},
     "output_type": "execute_result"
    }
   ],
   "source": [
    "df.groupBy('estado','cor_favorita').count().groupBy('estado').min('count')"
   ]
  },
  {
   "cell_type": "code",
   "execution_count": 23,
   "metadata": {},
   "outputs": [
    {
     "data": {
      "text/html": [
       "<table border='1'>\n",
       "<tr><th>estado</th><th>max(count)</th></tr>\n",
       "<tr><td>SC</td><td>6</td></tr>\n",
       "<tr><td>RO</td><td>5</td></tr>\n",
       "<tr><td>PI</td><td>6</td></tr>\n",
       "<tr><td>AM</td><td>6</td></tr>\n",
       "<tr><td>RR</td><td>5</td></tr>\n",
       "<tr><td>GO</td><td>6</td></tr>\n",
       "<tr><td>TO</td><td>5</td></tr>\n",
       "<tr><td>MT</td><td>4</td></tr>\n",
       "<tr><td>SP</td><td>7</td></tr>\n",
       "<tr><td>ES</td><td>5</td></tr>\n",
       "<tr><td>PB</td><td>4</td></tr>\n",
       "<tr><td>RS</td><td>5</td></tr>\n",
       "<tr><td>MS</td><td>6</td></tr>\n",
       "<tr><td>AL</td><td>5</td></tr>\n",
       "<tr><td>MG</td><td>7</td></tr>\n",
       "<tr><td>PA</td><td>4</td></tr>\n",
       "<tr><td>BA</td><td>6</td></tr>\n",
       "<tr><td>SE</td><td>6</td></tr>\n",
       "<tr><td>PE</td><td>6</td></tr>\n",
       "<tr><td>CE</td><td>7</td></tr>\n",
       "</table>\n",
       "only showing top 20 rows\n"
      ],
      "text/plain": [
       "+------+----------+\n",
       "|estado|max(count)|\n",
       "+------+----------+\n",
       "|    SC|         6|\n",
       "|    RO|         5|\n",
       "|    PI|         6|\n",
       "|    AM|         6|\n",
       "|    RR|         5|\n",
       "|    GO|         6|\n",
       "|    TO|         5|\n",
       "|    MT|         4|\n",
       "|    SP|         7|\n",
       "|    ES|         5|\n",
       "|    PB|         4|\n",
       "|    RS|         5|\n",
       "|    MS|         6|\n",
       "|    AL|         5|\n",
       "|    MG|         7|\n",
       "|    PA|         4|\n",
       "|    BA|         6|\n",
       "|    SE|         6|\n",
       "|    PE|         6|\n",
       "|    CE|         7|\n",
       "+------+----------+\n",
       "only showing top 20 rows"
      ]
     },
     "execution_count": 23,
     "metadata": {},
     "output_type": "execute_result"
    }
   ],
   "source": [
    "df.groupBy('estado','cor_favorita').count().groupBy('estado').max('count')"
   ]
  },
  {
   "cell_type": "code",
   "execution_count": 31,
   "metadata": {},
   "outputs": [
    {
     "data": {
      "text/html": [
       "<table border='1'>\n",
       "<tr><th>year(data_de_nascimento)</th><th>count</th></tr>\n",
       "<tr><td>1959</td><td>8</td></tr>\n",
       "<tr><td>1990</td><td>7</td></tr>\n",
       "<tr><td>1975</td><td>7</td></tr>\n",
       "<tr><td>1977</td><td>5</td></tr>\n",
       "<tr><td>1924</td><td>9</td></tr>\n",
       "<tr><td>2003</td><td>7</td></tr>\n",
       "<tr><td>2007</td><td>12</td></tr>\n",
       "<tr><td>2018</td><td>13</td></tr>\n",
       "<tr><td>1974</td><td>7</td></tr>\n",
       "<tr><td>2015</td><td>9</td></tr>\n",
       "<tr><td>2023</td><td>2</td></tr>\n",
       "<tr><td>1927</td><td>6</td></tr>\n",
       "<tr><td>1955</td><td>13</td></tr>\n",
       "<tr><td>2006</td><td>14</td></tr>\n",
       "<tr><td>2022</td><td>9</td></tr>\n",
       "<tr><td>1978</td><td>6</td></tr>\n",
       "<tr><td>1908</td><td>8</td></tr>\n",
       "<tr><td>1925</td><td>7</td></tr>\n",
       "<tr><td>1961</td><td>7</td></tr>\n",
       "<tr><td>2013</td><td>9</td></tr>\n",
       "</table>\n",
       "only showing top 20 rows\n"
      ],
      "text/plain": [
       "+------------------------+-----+\n",
       "|year(data_de_nascimento)|count|\n",
       "+------------------------+-----+\n",
       "|                    1959|    8|\n",
       "|                    1990|    7|\n",
       "|                    1975|    7|\n",
       "|                    1977|    5|\n",
       "|                    1924|    9|\n",
       "|                    2003|    7|\n",
       "|                    2007|   12|\n",
       "|                    2018|   13|\n",
       "|                    1974|    7|\n",
       "|                    2015|    9|\n",
       "|                    2023|    2|\n",
       "|                    1927|    6|\n",
       "|                    1955|   13|\n",
       "|                    2006|   14|\n",
       "|                    2022|    9|\n",
       "|                    1978|    6|\n",
       "|                    1908|    8|\n",
       "|                    1925|    7|\n",
       "|                    1961|    7|\n",
       "|                    2013|    9|\n",
       "+------------------------+-----+\n",
       "only showing top 20 rows"
      ]
     },
     "execution_count": 31,
     "metadata": {},
     "output_type": "execute_result"
    }
   ],
   "source": [
    "df.groupBy(F.year(df.data_de_nascimento)).count()"
   ]
  },
  {
   "cell_type": "code",
   "execution_count": 32,
   "metadata": {},
   "outputs": [
    {
     "data": {
      "text/html": [
       "<table border='1'>\n",
       "<tr><th>year(data_de_nascimento)</th><th>count</th></tr>\n",
       "<tr><td>1907</td><td>6</td></tr>\n",
       "<tr><td>1908</td><td>8</td></tr>\n",
       "<tr><td>1909</td><td>3</td></tr>\n",
       "<tr><td>1910</td><td>13</td></tr>\n",
       "<tr><td>1911</td><td>6</td></tr>\n",
       "<tr><td>1912</td><td>9</td></tr>\n",
       "<tr><td>1913</td><td>8</td></tr>\n",
       "<tr><td>1914</td><td>8</td></tr>\n",
       "<tr><td>1915</td><td>7</td></tr>\n",
       "<tr><td>1916</td><td>8</td></tr>\n",
       "<tr><td>1917</td><td>10</td></tr>\n",
       "<tr><td>1918</td><td>7</td></tr>\n",
       "<tr><td>1919</td><td>10</td></tr>\n",
       "<tr><td>1920</td><td>8</td></tr>\n",
       "<tr><td>1921</td><td>8</td></tr>\n",
       "<tr><td>1922</td><td>9</td></tr>\n",
       "<tr><td>1923</td><td>9</td></tr>\n",
       "<tr><td>1924</td><td>9</td></tr>\n",
       "<tr><td>1925</td><td>7</td></tr>\n",
       "<tr><td>1926</td><td>9</td></tr>\n",
       "</table>\n",
       "only showing top 20 rows\n"
      ],
      "text/plain": [
       "+------------------------+-----+\n",
       "|year(data_de_nascimento)|count|\n",
       "+------------------------+-----+\n",
       "|                    1907|    6|\n",
       "|                    1908|    8|\n",
       "|                    1909|    3|\n",
       "|                    1910|   13|\n",
       "|                    1911|    6|\n",
       "|                    1912|    9|\n",
       "|                    1913|    8|\n",
       "|                    1914|    8|\n",
       "|                    1915|    7|\n",
       "|                    1916|    8|\n",
       "|                    1917|   10|\n",
       "|                    1918|    7|\n",
       "|                    1919|   10|\n",
       "|                    1920|    8|\n",
       "|                    1921|    8|\n",
       "|                    1922|    9|\n",
       "|                    1923|    9|\n",
       "|                    1924|    9|\n",
       "|                    1925|    7|\n",
       "|                    1926|    9|\n",
       "+------------------------+-----+\n",
       "only showing top 20 rows"
      ]
     },
     "execution_count": 32,
     "metadata": {},
     "output_type": "execute_result"
    }
   ],
   "source": [
    "df.groupBy(F.year(df.data_de_nascimento)).count().orderBy(F.year(df.data_de_nascimento))"
   ]
  }
 ],
 "metadata": {
  "kernelspec": {
   "display_name": "Python 3",
   "language": "python",
   "name": "python3"
  },
  "language_info": {
   "codemirror_mode": {
    "name": "ipython",
    "version": 3
   },
   "file_extension": ".py",
   "mimetype": "text/x-python",
   "name": "python",
   "nbconvert_exporter": "python",
   "pygments_lexer": "ipython3",
   "version": "3.12.2"
  }
 },
 "nbformat": 4,
 "nbformat_minor": 2
}
