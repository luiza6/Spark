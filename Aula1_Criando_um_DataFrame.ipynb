{
 "cells": [
  {
   "cell_type": "markdown",
   "metadata": {},
   "source": [
    "## Criando um DataFrame "
   ]
  },
  {
   "cell_type": "markdown",
   "metadata": {},
   "source": [
    "#### Importar a classe SparkSession do módulo pyspark.sql.\n",
    "\n",
    "O SparkSession é uma entrada única para a funcionalidade do Spark SQL, permitindo que você interaja com os dados em estruturas de dados distribuídas e manipule grandes conjuntos de dados de forma eficiente usando o Apache Spark.\n",
    "\n",
    "Quando você cria uma instância de SparkSession, ela oferece métodos para ler dados de fontes diversas, como arquivos CSV, JSON, Parquet, bancos de dados JDBC, entre outros. Além disso, você pode executar operações de transformação, agregação e análise de dados usando a API do Spark SQL. Em resumo, o SparkSession é essencial para iniciar e gerenciar operações de processamento de dados em um ambiente distribuído com o Apache Spark."
   ]
  },
  {
   "cell_type": "code",
   "execution_count": 1,
   "metadata": {},
   "outputs": [],
   "source": [
    "from pyspark.sql import SparkSession"
   ]
  },
  {
   "cell_type": "markdown",
   "metadata": {},
   "source": [
    "#### Criar uma instância do SparkSession\n",
    "\n",
    "A linha de código **spark = SparkSession.builder.appName('Aula 1').getOrCreate()** é usada para criar uma instância do SparkSession no Apache Spark usando a API PySpark. Vamos quebrar a linha para entender o que cada parte faz:\n",
    "\n",
    "**SparkSession.builder:** Aqui, você está chamando o método builder do SparkSession, que é responsável por criar um construtor para a sessão do Spark.\n",
    "\n",
    "**.appName('Aula 1'):** Este é um método do construtor que define o nome da sua aplicação Spark. No exemplo dado, o nome da aplicação é definido como 'Aula 1'. Esse nome pode ser usado para monitoramento e rastreamento de jobs do Spark no cluster.\n",
    "\n",
    "**.getOrCreate():** Este método é usado para obter uma instância existente do SparkSession se ela já existir, ou criar uma nova se não existir. Ele é útil quando você está executando seu código em ambientes diferentes, como em um notebook ou em um script, garantindo que apenas uma instância do SparkSession seja criada e utilizada.\n",
    "\n",
    "Em resumo, essa linha de código cria uma instância do SparkSession chamada spark com o nome da aplicação definido como 'Aula 1' e garante que apenas uma instância seja criada durante a execução do código. Isso é fundamental para iniciar e gerenciar operações de processamento de dados usando o Apache Spark com PySpark."
   ]
  },
  {
   "cell_type": "code",
   "execution_count": 2,
   "metadata": {},
   "outputs": [],
   "source": [
    "spark = (\n",
    "    SparkSession.builder.appName('Aula 1 -  Criando um DataFrame')\n",
    "    .config('spark.sql.repl.eagerEval.enabled', True)\n",
    "    .getOrCreate())\n",
    "    "
   ]
  },
  {
   "cell_type": "code",
   "execution_count": 3,
   "metadata": {},
   "outputs": [
    {
     "data": {
      "text/html": [
       "\n",
       "            <div>\n",
       "                <p><b>SparkSession - in-memory</b></p>\n",
       "                \n",
       "        <div>\n",
       "            <p><b>SparkContext</b></p>\n",
       "\n",
       "            <p><a href=\"http://noteLuia:4042\">Spark UI</a></p>\n",
       "\n",
       "            <dl>\n",
       "              <dt>Version</dt>\n",
       "                <dd><code>v3.3.2</code></dd>\n",
       "              <dt>Master</dt>\n",
       "                <dd><code>local[*]</code></dd>\n",
       "              <dt>AppName</dt>\n",
       "                <dd><code>Aula 1</code></dd>\n",
       "            </dl>\n",
       "        </div>\n",
       "        \n",
       "            </div>\n",
       "        "
      ],
      "text/plain": [
       "<pyspark.sql.session.SparkSession at 0x214127979b0>"
      ]
     },
     "execution_count": 3,
     "metadata": {},
     "output_type": "execute_result"
    }
   ],
   "source": [
    "spark"
   ]
  },
  {
   "cell_type": "code",
   "execution_count": 4,
   "metadata": {},
   "outputs": [],
   "source": [
    "local_file = r'C:\\Users\\mluiz\\Documents\\05_Python\\PySpark\\datasets\\LOGINS.csv'"
   ]
  },
  {
   "cell_type": "code",
   "execution_count": 5,
   "metadata": {},
   "outputs": [
    {
     "name": "stdout",
     "output_type": "stream",
     "text": [
      "+--------------------+\n",
      "|                 _c0|\n",
      "+--------------------+\n",
      "|cpf;email;senha;d...|\n",
      "|981.507.362-12;pe...|\n",
      "|493.705.168-75;re...|\n",
      "+--------------------+\n",
      "only showing top 3 rows\n",
      "\n"
     ]
    }
   ],
   "source": [
    "df = spark.read.csv(local_file)\n",
    "df.show(3)"
   ]
  },
  {
   "cell_type": "code",
   "execution_count": 6,
   "metadata": {},
   "outputs": [
    {
     "name": "stdout",
     "output_type": "stream",
     "text": [
      "+--------------+--------------------+----------+------------------+------+-------------+--------------+------------+--------------------+---------------+\n",
      "|           _c0|                 _c1|       _c2|               _c3|   _c4|          _c5|           _c6|         _c7|                 _c8|            _c9|\n",
      "+--------------+--------------------+----------+------------------+------+-------------+--------------+------------+--------------------+---------------+\n",
      "|           cpf|               email|     senha|data_de_nascimento|estado|data_cadastro|          ipv4|cor_favorita|           profissao|       telefone|\n",
      "|981.507.362-12|pedro-lucas53@gma...|+7^7E%xFBc|        2006-12-18|    RR|   2023-02-26|99.107.250.210|        Roxo|    Jogador De Golfe|   31 7785-4046|\n",
      "|493.705.168-75|rezendeisaac@hotm...|_O_2GRnGOe|        1992-06-17|    GO|   2023-02-16| 197.11.26.213|       Ciano|Atleta De Arremes...|(031) 0803-6753|\n",
      "+--------------+--------------------+----------+------------------+------+-------------+--------------+------------+--------------------+---------------+\n",
      "only showing top 3 rows\n",
      "\n"
     ]
    }
   ],
   "source": [
    "df = spark.read.csv(local_file, sep=';')\n",
    "df.show(3)"
   ]
  },
  {
   "cell_type": "code",
   "execution_count": 7,
   "metadata": {},
   "outputs": [
    {
     "name": "stdout",
     "output_type": "stream",
     "text": [
      "+--------------+--------------------+----------+------------------+------+-------------+--------------+------------+--------------------+---------------+\n",
      "|           cpf|               email|     senha|data_de_nascimento|estado|data_cadastro|          ipv4|cor_favorita|           profissao|       telefone|\n",
      "+--------------+--------------------+----------+------------------+------+-------------+--------------+------------+--------------------+---------------+\n",
      "|981.507.362-12|pedro-lucas53@gma...|+7^7E%xFBc|        2006-12-18|    RR|   2023-02-26|99.107.250.210|        Roxo|    Jogador De Golfe|   31 7785-4046|\n",
      "|493.705.168-75|rezendeisaac@hotm...|_O_2GRnGOe|        1992-06-17|    GO|   2023-02-16| 197.11.26.213|       Ciano|Atleta De Arremes...|(031) 0803-6753|\n",
      "|398.471.625-73|felipepires@uol.c...|*Aw5EOAvy9|        1921-11-11|    MG|   2023-01-02|  181.90.63.58|        Azul|      Papiloscopista|   11 9674-0553|\n",
      "+--------------+--------------------+----------+------------------+------+-------------+--------------+------------+--------------------+---------------+\n",
      "only showing top 3 rows\n",
      "\n"
     ]
    }
   ],
   "source": [
    "df = spark.read.csv(local_file, sep=';', header=True)\n",
    "df.show(3)"
   ]
  },
  {
   "cell_type": "code",
   "execution_count": 8,
   "metadata": {},
   "outputs": [
    {
     "data": {
      "text/plain": [
       "DataFrame[cpf: string, email: string, senha: string, data_de_nascimento: string, estado: string, data_cadastro: string, ipv4: string, cor_favorita: string, profissao: string, telefone: string]"
      ]
     },
     "execution_count": 8,
     "metadata": {},
     "output_type": "execute_result"
    }
   ],
   "source": [
    "df"
   ]
  },
  {
   "cell_type": "code",
   "execution_count": 9,
   "metadata": {},
   "outputs": [],
   "source": [
    "local_file2 = r'C:\\Users\\mluiz\\Documents\\05_Python\\PySpark\\datasets\\LOGINS.txt'"
   ]
  },
  {
   "cell_type": "code",
   "execution_count": 13,
   "metadata": {},
   "outputs": [
    {
     "name": "stdout",
     "output_type": "stream",
     "text": [
      "+--------------+--------------------+----------+------------------+------+-------------+--------------+------------+--------------------+---------------+\n",
      "|           cpf|               email|     senha|data_de_nascimento|estado|data_cadastro|          ipv4|cor_favorita|           profissao|       telefone|\n",
      "+--------------+--------------------+----------+------------------+------+-------------+--------------+------------+--------------------+---------------+\n",
      "|981.507.362-12|pedro-lucas53@gma...|+7^7E%xFBc|        2006-12-18|    RR|   2023-02-26|99.107.250.210|        Roxo|    Jogador De Golfe|   31 7785-4046|\n",
      "|493.705.168-75|rezendeisaac@hotm...|_O_2GRnGOe|        1992-06-17|    GO|   2023-02-16| 197.11.26.213|       Ciano|Atleta De Arremes...|(031) 0803-6753|\n",
      "|398.471.625-73|felipepires@uol.c...|*Aw5EOAvy9|        1921-11-11|    MG|   2023-01-02|  181.90.63.58|        Azul|      Papiloscopista|   11 9674-0553|\n",
      "+--------------+--------------------+----------+------------------+------+-------------+--------------+------------+--------------------+---------------+\n",
      "only showing top 3 rows\n",
      "\n"
     ]
    }
   ],
   "source": [
    "df2 = spark.read.csv(local_file2, header=True)\n",
    "df2.show(3)"
   ]
  },
  {
   "cell_type": "code",
   "execution_count": 15,
   "metadata": {},
   "outputs": [],
   "source": [
    "local_file3 = r'C:\\Users\\mluiz\\Documents\\05_Python\\PySpark\\datasets\\LOGINS.parquet'"
   ]
  },
  {
   "cell_type": "code",
   "execution_count": 16,
   "metadata": {},
   "outputs": [
    {
     "name": "stdout",
     "output_type": "stream",
     "text": [
      "+--------------+--------------------+----------+------------------+------+-------------+--------------+------------+--------------------+---------------+\n",
      "|           cpf|               email|     senha|data_de_nascimento|estado|data_cadastro|          ipv4|cor_favorita|           profissao|       telefone|\n",
      "+--------------+--------------------+----------+------------------+------+-------------+--------------+------------+--------------------+---------------+\n",
      "|981.507.362-12|pedro-lucas53@gma...|+7^7E%xFBc|        2006-12-18|    RR|   2023-02-26|99.107.250.210|        Roxo|    Jogador De Golfe|   31 7785-4046|\n",
      "|493.705.168-75|rezendeisaac@hotm...|_O_2GRnGOe|        1992-06-17|    GO|   2023-02-16| 197.11.26.213|       Ciano|Atleta De Arremes...|(031) 0803-6753|\n",
      "|398.471.625-73|felipepires@uol.c...|*Aw5EOAvy9|        1921-11-11|    MG|   2023-01-02|  181.90.63.58|        Azul|      Papiloscopista|   11 9674-0553|\n",
      "+--------------+--------------------+----------+------------------+------+-------------+--------------+------------+--------------------+---------------+\n",
      "only showing top 3 rows\n",
      "\n"
     ]
    }
   ],
   "source": [
    "df3 = spark.read.parquet(local_file3)\n",
    "df3.show(3)"
   ]
  },
  {
   "cell_type": "code",
   "execution_count": 18,
   "metadata": {},
   "outputs": [
    {
     "name": "stdout",
     "output_type": "stream",
     "text": [
      "root\n",
      " |-- cpf: string (nullable = true)\n",
      " |-- email: string (nullable = true)\n",
      " |-- senha: string (nullable = true)\n",
      " |-- data_de_nascimento: string (nullable = true)\n",
      " |-- estado: string (nullable = true)\n",
      " |-- data_cadastro: string (nullable = true)\n",
      " |-- ipv4: string (nullable = true)\n",
      " |-- cor_favorita: string (nullable = true)\n",
      " |-- profissao: string (nullable = true)\n",
      " |-- telefone: string (nullable = true)\n",
      "\n"
     ]
    }
   ],
   "source": [
    "df.printSchema()"
   ]
  },
  {
   "cell_type": "code",
   "execution_count": 20,
   "metadata": {},
   "outputs": [
    {
     "name": "stdout",
     "output_type": "stream",
     "text": [
      "root\n",
      " |-- cpf: string (nullable = true)\n",
      " |-- email: string (nullable = true)\n",
      " |-- senha: string (nullable = true)\n",
      " |-- data_de_nascimento: date (nullable = true)\n",
      " |-- estado: string (nullable = true)\n",
      " |-- data_cadastro: date (nullable = true)\n",
      " |-- ipv4: string (nullable = true)\n",
      " |-- cor_favorita: string (nullable = true)\n",
      " |-- profissao: string (nullable = true)\n",
      " |-- telefone: string (nullable = true)\n",
      "\n"
     ]
    }
   ],
   "source": [
    "df3.printSchema()"
   ]
  },
  {
   "cell_type": "code",
   "execution_count": 23,
   "metadata": {},
   "outputs": [
    {
     "data": {
      "text/plain": [
       "1000"
      ]
     },
     "execution_count": 23,
     "metadata": {},
     "output_type": "execute_result"
    }
   ],
   "source": [
    "df.count()"
   ]
  },
  {
   "cell_type": "code",
   "execution_count": 25,
   "metadata": {},
   "outputs": [
    {
     "name": "stdout",
     "output_type": "stream",
     "text": [
      "+-------+--------------+-------------------+----------+------------------+------+-------------+-------------+------------+------------------+---------------+\n",
      "|summary|           cpf|              email|     senha|data_de_nascimento|estado|data_cadastro|         ipv4|cor_favorita|         profissao|       telefone|\n",
      "+-------+--------------+-------------------+----------+------------------+------+-------------+-------------+------------+------------------+---------------+\n",
      "|  count|          1000|               1000|      1000|              1000|  1000|         1000|         1000|        1000|              1000|           1000|\n",
      "|   mean|          null|               null|      null|              null|  null|         null|         null|        null|              null|           null|\n",
      "| stddev|          null|               null|      null|              null|  null|         null|         null|        null|              null|           null|\n",
      "|    min|012.469.857-30|aaragao@hotmail.com|!$A)4EAxE$|        1907-05-10|    AC|   2023-01-01|1.122.154.219|     Amarelo|      Acompanhante|(011) 0026-5893|\n",
      "|    max|987.620.341-03|zpinto@yahoo.com.br|zm1eLH9t%o|        2023-03-15|    TO|   2023-03-15|99.31.171.138|     Violeta|Árbitro E Mediador|   84 9747-8522|\n",
      "+-------+--------------+-------------------+----------+------------------+------+-------------+-------------+------------+------------------+---------------+\n",
      "\n"
     ]
    }
   ],
   "source": [
    "df.describe().show()"
   ]
  },
  {
   "cell_type": "code",
   "execution_count": 26,
   "metadata": {},
   "outputs": [
    {
     "name": "stdout",
     "output_type": "stream",
     "text": [
      "-RECORD 0---------------------------------\n",
      " summary            | count               \n",
      " cpf                | 1000                \n",
      " email              | 1000                \n",
      " senha              | 1000                \n",
      " data_de_nascimento | 1000                \n",
      " estado             | 1000                \n",
      " data_cadastro      | 1000                \n",
      " ipv4               | 1000                \n",
      " cor_favorita       | 1000                \n",
      " profissao          | 1000                \n",
      " telefone           | 1000                \n",
      "-RECORD 1---------------------------------\n",
      " summary            | mean                \n",
      " cpf                | null                \n",
      " email              | null                \n",
      " senha              | null                \n",
      " data_de_nascimento | null                \n",
      " estado             | null                \n",
      " data_cadastro      | null                \n",
      " ipv4               | null                \n",
      " cor_favorita       | null                \n",
      " profissao          | null                \n",
      " telefone           | null                \n",
      "-RECORD 2---------------------------------\n",
      " summary            | stddev              \n",
      " cpf                | null                \n",
      " email              | null                \n",
      " senha              | null                \n",
      " data_de_nascimento | null                \n",
      " estado             | null                \n",
      " data_cadastro      | null                \n",
      " ipv4               | null                \n",
      " cor_favorita       | null                \n",
      " profissao          | null                \n",
      " telefone           | null                \n",
      "-RECORD 3---------------------------------\n",
      " summary            | min                 \n",
      " cpf                | 012.469.857-30      \n",
      " email              | aaragao@hotmail.com \n",
      " senha              | !$A)4EAxE$          \n",
      " data_de_nascimento | 1907-05-10          \n",
      " estado             | AC                  \n",
      " data_cadastro      | 2023-01-01          \n",
      " ipv4               | 1.122.154.219       \n",
      " cor_favorita       | Amarelo             \n",
      " profissao          | Acompanhante        \n",
      " telefone           | (011) 0026-5893     \n",
      "-RECORD 4---------------------------------\n",
      " summary            | max                 \n",
      " cpf                | 987.620.341-03      \n",
      " email              | zpinto@yahoo.com.br \n",
      " senha              | zm1eLH9t%o          \n",
      " data_de_nascimento | 2023-03-15          \n",
      " estado             | TO                  \n",
      " data_cadastro      | 2023-03-15          \n",
      " ipv4               | 99.31.171.138       \n",
      " cor_favorita       | Violeta             \n",
      " profissao          | Árbitro E Mediador  \n",
      " telefone           | 84 9747-8522        \n",
      "\n"
     ]
    }
   ],
   "source": [
    "df.describe().show(vertical=True)"
   ]
  },
  {
   "cell_type": "code",
   "execution_count": 28,
   "metadata": {},
   "outputs": [
    {
     "data": {
      "text/plain": [
       "[('cpf', 'string'),\n",
       " ('email', 'string'),\n",
       " ('senha', 'string'),\n",
       " ('data_de_nascimento', 'string'),\n",
       " ('estado', 'string'),\n",
       " ('data_cadastro', 'string'),\n",
       " ('ipv4', 'string'),\n",
       " ('cor_favorita', 'string'),\n",
       " ('profissao', 'string'),\n",
       " ('telefone', 'string')]"
      ]
     },
     "execution_count": 28,
     "metadata": {},
     "output_type": "execute_result"
    }
   ],
   "source": [
    "df.dtypes"
   ]
  },
  {
   "cell_type": "code",
   "execution_count": 29,
   "metadata": {},
   "outputs": [
    {
     "data": {
      "text/plain": [
       "[('cpf', 'string'),\n",
       " ('email', 'string'),\n",
       " ('senha', 'string'),\n",
       " ('data_de_nascimento', 'date'),\n",
       " ('estado', 'string'),\n",
       " ('data_cadastro', 'date'),\n",
       " ('ipv4', 'string'),\n",
       " ('cor_favorita', 'string'),\n",
       " ('profissao', 'string'),\n",
       " ('telefone', 'string')]"
      ]
     },
     "execution_count": 29,
     "metadata": {},
     "output_type": "execute_result"
    }
   ],
   "source": [
    "df3.dtypes"
   ]
  }
 ],
 "metadata": {
  "kernelspec": {
   "display_name": "base",
   "language": "python",
   "name": "python3"
  },
  "language_info": {
   "codemirror_mode": {
    "name": "ipython",
    "version": 3
   },
   "file_extension": ".py",
   "mimetype": "text/x-python",
   "name": "python",
   "nbconvert_exporter": "python",
   "pygments_lexer": "ipython3",
   "version": "3.12.2"
  }
 },
 "nbformat": 4,
 "nbformat_minor": 2
}
