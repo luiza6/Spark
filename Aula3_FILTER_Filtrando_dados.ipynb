{
 "cells": [
  {
   "cell_type": "code",
   "execution_count": 1,
   "metadata": {},
   "outputs": [],
   "source": [
    "from pyspark.sql import SparkSession"
   ]
  },
  {
   "cell_type": "code",
   "execution_count": 2,
   "metadata": {},
   "outputs": [],
   "source": [
    "spark = (\n",
    "    SparkSession.builder.appName('Aula 3 - FILTER: Filtrando dados de uma tabela')\n",
    "    .config('spark.sql.repl.eagerEval.enabled', True)\n",
    "    .getOrCreate())\n",
    "    "
   ]
  },
  {
   "cell_type": "code",
   "execution_count": 3,
   "metadata": {},
   "outputs": [
    {
     "data": {
      "text/html": [
       "\n",
       "            <div>\n",
       "                <p><b>SparkSession - in-memory</b></p>\n",
       "                \n",
       "        <div>\n",
       "            <p><b>SparkContext</b></p>\n",
       "\n",
       "            <p><a href=\"http://noteLuia:4041\">Spark UI</a></p>\n",
       "\n",
       "            <dl>\n",
       "              <dt>Version</dt>\n",
       "                <dd><code>v3.3.2</code></dd>\n",
       "              <dt>Master</dt>\n",
       "                <dd><code>local[*]</code></dd>\n",
       "              <dt>AppName</dt>\n",
       "                <dd><code>Aula 3</code></dd>\n",
       "            </dl>\n",
       "        </div>\n",
       "        \n",
       "            </div>\n",
       "        "
      ],
      "text/plain": [
       "<pyspark.sql.session.SparkSession at 0x2bdff053200>"
      ]
     },
     "execution_count": 3,
     "metadata": {},
     "output_type": "execute_result"
    }
   ],
   "source": [
    "spark"
   ]
  },
  {
   "cell_type": "code",
   "execution_count": 4,
   "metadata": {},
   "outputs": [],
   "source": [
    "local_file = r'C:\\Users\\mluiz\\Documents\\05_Python\\PySpark\\datasets\\LOGINS.parquet'"
   ]
  },
  {
   "cell_type": "code",
   "execution_count": 5,
   "metadata": {},
   "outputs": [],
   "source": [
    "df = spark.read.parquet(local_file)"
   ]
  },
  {
   "cell_type": "code",
   "execution_count": 6,
   "metadata": {},
   "outputs": [
    {
     "name": "stdout",
     "output_type": "stream",
     "text": [
      "+--------------+--------------------+----------+------------------+------+-------------+--------------+------------+--------------------+---------------+\n",
      "|           cpf|               email|     senha|data_de_nascimento|estado|data_cadastro|          ipv4|cor_favorita|           profissao|       telefone|\n",
      "+--------------+--------------------+----------+------------------+------+-------------+--------------+------------+--------------------+---------------+\n",
      "|981.507.362-12|pedro-lucas53@gma...|+7^7E%xFBc|        2006-12-18|    RR|   2023-02-26|99.107.250.210|        Roxo|    Jogador De Golfe|   31 7785-4046|\n",
      "|493.705.168-75|rezendeisaac@hotm...|_O_2GRnGOe|        1992-06-17|    GO|   2023-02-16| 197.11.26.213|       Ciano|Atleta De Arremes...|(031) 0803-6753|\n",
      "|398.471.625-73|felipepires@uol.c...|*Aw5EOAvy9|        1921-11-11|    MG|   2023-01-02|  181.90.63.58|        Azul|      Papiloscopista|   11 9674-0553|\n",
      "+--------------+--------------------+----------+------------------+------+-------------+--------------+------------+--------------------+---------------+\n",
      "only showing top 3 rows\n",
      "\n"
     ]
    }
   ],
   "source": [
    "df.show(3)"
   ]
  },
  {
   "cell_type": "code",
   "execution_count": 11,
   "metadata": {},
   "outputs": [
    {
     "name": "stdout",
     "output_type": "stream",
     "text": [
      "+--------------+--------------------+----------+------------------+------+-------------+--------------+------------+--------------------+-------------------+\n",
      "|           cpf|               email|     senha|data_de_nascimento|estado|data_cadastro|          ipv4|cor_favorita|           profissao|           telefone|\n",
      "+--------------+--------------------+----------+------------------+------+-------------+--------------+------------+--------------------+-------------------+\n",
      "|398.471.625-73|felipepires@uol.c...|*Aw5EOAvy9|        1921-11-11|    MG|   2023-01-02|  181.90.63.58|        Azul|      Papiloscopista|       11 9674-0553|\n",
      "|218.795.460-94|da-conceicaodavi-...|uhBbFxPA&9|        1986-05-19|    MG|   2023-03-07|   192.93.0.24|        Rosa|             Taxista|   +55 84 0652 9691|\n",
      "|715.836.940-48| efreitas@bol.com.br|s#q9VZt&xl|        2018-04-20|    MG|   2023-01-13|76.251.188.148|      Branco|Produtor De Audio...|+55 (084) 1363 0052|\n",
      "+--------------+--------------------+----------+------------------+------+-------------+--------------+------------+--------------------+-------------------+\n",
      "only showing top 3 rows\n",
      "\n"
     ]
    }
   ],
   "source": [
    "df.filter(df.estado=='MG').show(3)"
   ]
  },
  {
   "cell_type": "code",
   "execution_count": 12,
   "metadata": {},
   "outputs": [
    {
     "name": "stdout",
     "output_type": "stream",
     "text": [
      "+--------------+--------------------+----------+------------------+------+-------------+--------------+------------+--------------------+-------------------+\n",
      "|           cpf|               email|     senha|data_de_nascimento|estado|data_cadastro|          ipv4|cor_favorita|           profissao|           telefone|\n",
      "+--------------+--------------------+----------+------------------+------+-------------+--------------+------------+--------------------+-------------------+\n",
      "|398.471.625-73|felipepires@uol.c...|*Aw5EOAvy9|        1921-11-11|    MG|   2023-01-02|  181.90.63.58|        Azul|      Papiloscopista|       11 9674-0553|\n",
      "|085.427.631-90|pedro-lucas79@yah...|B)9P4q+tLR|        1944-03-01|    MG|   2023-01-06|171.175.90.138|        Azul|Tecnólogo Em Espo...|+55 (081) 4438 9837|\n",
      "|940.578.623-74|fernandolopes@yah...|DE5Il)Thu*|        1945-04-04|    MG|   2023-03-09|211.163.192.56|        Azul|             Tenente|      0300-025-4031|\n",
      "+--------------+--------------------+----------+------------------+------+-------------+--------------+------------+--------------------+-------------------+\n",
      "\n"
     ]
    }
   ],
   "source": [
    "df.filter((df.estado=='MG') & (df.cor_favorita=='Azul')).show(3)"
   ]
  },
  {
   "cell_type": "code",
   "execution_count": 13,
   "metadata": {},
   "outputs": [
    {
     "name": "stdout",
     "output_type": "stream",
     "text": [
      "+---+-----+-----+------------------+------+-------------+----+------------+---------+--------+\n",
      "|cpf|email|senha|data_de_nascimento|estado|data_cadastro|ipv4|cor_favorita|profissao|telefone|\n",
      "+---+-----+-----+------------------+------+-------------+----+------------+---------+--------+\n",
      "+---+-----+-----+------------------+------+-------------+----+------------+---------+--------+\n",
      "\n"
     ]
    }
   ],
   "source": [
    "df.filter((df.estado=='mg') & (df.cor_favorita=='Azul')).show(3) # É case sensitive"
   ]
  },
  {
   "cell_type": "code",
   "execution_count": 14,
   "metadata": {},
   "outputs": [
    {
     "name": "stdout",
     "output_type": "stream",
     "text": [
      "+---+-----+-----+------------------+------+-------------+----+------------+---------+--------+\n",
      "|cpf|email|senha|data_de_nascimento|estado|data_cadastro|ipv4|cor_favorita|profissao|telefone|\n",
      "+---+-----+-----+------------------+------+-------------+----+------------+---------+--------+\n",
      "+---+-----+-----+------------------+------+-------------+----+------------+---------+--------+\n",
      "\n"
     ]
    }
   ],
   "source": [
    "df.filter((df.estado=='MG') & (df.cor_favorita=='azul')).show(3) # É case sensitive"
   ]
  },
  {
   "cell_type": "code",
   "execution_count": 16,
   "metadata": {},
   "outputs": [
    {
     "name": "stdout",
     "output_type": "stream",
     "text": [
      "+--------------+--------------------+----------+------------------+------+-------------+--------------+------------+--------------------+-------------------+\n",
      "|           cpf|               email|     senha|data_de_nascimento|estado|data_cadastro|          ipv4|cor_favorita|           profissao|           telefone|\n",
      "+--------------+--------------------+----------+------------------+------+-------------+--------------+------------+--------------------+-------------------+\n",
      "|398.471.625-73|felipepires@uol.c...|*Aw5EOAvy9|        1921-11-11|    MG|   2023-01-02|  181.90.63.58|        Azul|      Papiloscopista|       11 9674-0553|\n",
      "|085.427.631-90|pedro-lucas79@yah...|B)9P4q+tLR|        1944-03-01|    MG|   2023-01-06|171.175.90.138|        Azul|Tecnólogo Em Espo...|+55 (081) 4438 9837|\n",
      "|940.578.623-74|fernandolopes@yah...|DE5Il)Thu*|        1945-04-04|    MG|   2023-03-09|211.163.192.56|        Azul|             Tenente|      0300-025-4031|\n",
      "+--------------+--------------------+----------+------------------+------+-------------+--------------+------------+--------------------+-------------------+\n",
      "\n"
     ]
    }
   ],
   "source": [
    "df.filter(df.estado=='MG').filter(df.cor_favorita=='Azul').show(3)"
   ]
  },
  {
   "cell_type": "code",
   "execution_count": 17,
   "metadata": {},
   "outputs": [
    {
     "name": "stdout",
     "output_type": "stream",
     "text": [
      "+--------------+--------------------+----------+------------------+------+-------------+---------------+------------+--------------------+-------------------+\n",
      "|           cpf|               email|     senha|data_de_nascimento|estado|data_cadastro|           ipv4|cor_favorita|           profissao|           telefone|\n",
      "+--------------+--------------------+----------+------------------+------+-------------+---------------+------------+--------------------+-------------------+\n",
      "|398.471.625-73|felipepires@uol.c...|*Aw5EOAvy9|        1921-11-11|    MG|   2023-01-02|   181.90.63.58|        Azul|      Papiloscopista|       11 9674-0553|\n",
      "|218.795.460-94|da-conceicaodavi-...|uhBbFxPA&9|        1986-05-19|    MG|   2023-03-07|    192.93.0.24|        Rosa|             Taxista|   +55 84 0652 9691|\n",
      "|715.836.940-48| efreitas@bol.com.br|s#q9VZt&xl|        2018-04-20|    MG|   2023-01-13| 76.251.188.148|      Branco|Produtor De Audio...|+55 (084) 1363 0052|\n",
      "|573.619.804-57| hnogueira@ig.com.br|&9Ejtll$PF|        1949-03-06|    SP|   2023-01-27|168.162.247.252|       Cinza|Instalador De Lin...|    (031) 9148 3933|\n",
      "|348.215.690-51| omoreira@bol.com.br|!8maDkdVnY|        2008-10-24|    MG|   2023-02-20|  177.2.242.176|Verde Escuro|Adestrador De Ani...|   +55 61 3217-9930|\n",
      "+--------------+--------------------+----------+------------------+------+-------------+---------------+------------+--------------------+-------------------+\n",
      "only showing top 5 rows\n",
      "\n"
     ]
    }
   ],
   "source": [
    "df.filter((df.estado =='MG') | (df.estado == 'SP')).show(5) #OU"
   ]
  },
  {
   "cell_type": "code",
   "execution_count": 18,
   "metadata": {},
   "outputs": [
    {
     "name": "stdout",
     "output_type": "stream",
     "text": [
      "+--------------+--------------------+----------+------------------+------+-------------+---------------+------------+--------------------+-------------------+\n",
      "|           cpf|               email|     senha|data_de_nascimento|estado|data_cadastro|           ipv4|cor_favorita|           profissao|           telefone|\n",
      "+--------------+--------------------+----------+------------------+------+-------------+---------------+------------+--------------------+-------------------+\n",
      "|398.471.625-73|felipepires@uol.c...|*Aw5EOAvy9|        1921-11-11|    MG|   2023-01-02|   181.90.63.58|        Azul|      Papiloscopista|       11 9674-0553|\n",
      "|218.795.460-94|da-conceicaodavi-...|uhBbFxPA&9|        1986-05-19|    MG|   2023-03-07|    192.93.0.24|        Rosa|             Taxista|   +55 84 0652 9691|\n",
      "|715.836.940-48| efreitas@bol.com.br|s#q9VZt&xl|        2018-04-20|    MG|   2023-01-13| 76.251.188.148|      Branco|Produtor De Audio...|+55 (084) 1363 0052|\n",
      "|573.619.804-57| hnogueira@ig.com.br|&9Ejtll$PF|        1949-03-06|    SP|   2023-01-27|168.162.247.252|       Cinza|Instalador De Lin...|    (031) 9148 3933|\n",
      "|348.215.690-51| omoreira@bol.com.br|!8maDkdVnY|        2008-10-24|    MG|   2023-02-20|  177.2.242.176|Verde Escuro|Adestrador De Ani...|   +55 61 3217-9930|\n",
      "+--------------+--------------------+----------+------------------+------+-------------+---------------+------------+--------------------+-------------------+\n",
      "only showing top 5 rows\n",
      "\n"
     ]
    }
   ],
   "source": [
    "df.filter(df.estado.isin('SP','MG')).show(5) # Quando for mesma coluna, pode fazer assim."
   ]
  },
  {
   "cell_type": "code",
   "execution_count": 19,
   "metadata": {},
   "outputs": [
    {
     "name": "stdout",
     "output_type": "stream",
     "text": [
      "+--------------+--------------------+----------+------------------+------+-------------+---------------+------------+--------------------+-------------------+\n",
      "|           cpf|               email|     senha|data_de_nascimento|estado|data_cadastro|           ipv4|cor_favorita|           profissao|           telefone|\n",
      "+--------------+--------------------+----------+------------------+------+-------------+---------------+------------+--------------------+-------------------+\n",
      "|398.471.625-73|felipepires@uol.c...|*Aw5EOAvy9|        1921-11-11|    MG|   2023-01-02|   181.90.63.58|        Azul|      Papiloscopista|       11 9674-0553|\n",
      "|218.795.460-94|da-conceicaodavi-...|uhBbFxPA&9|        1986-05-19|    MG|   2023-03-07|    192.93.0.24|        Rosa|             Taxista|   +55 84 0652 9691|\n",
      "|715.836.940-48| efreitas@bol.com.br|s#q9VZt&xl|        2018-04-20|    MG|   2023-01-13| 76.251.188.148|      Branco|Produtor De Audio...|+55 (084) 1363 0052|\n",
      "|573.619.804-57| hnogueira@ig.com.br|&9Ejtll$PF|        1949-03-06|    SP|   2023-01-27|168.162.247.252|       Cinza|Instalador De Lin...|    (031) 9148 3933|\n",
      "|348.215.690-51| omoreira@bol.com.br|!8maDkdVnY|        2008-10-24|    MG|   2023-02-20|  177.2.242.176|Verde Escuro|Adestrador De Ani...|   +55 61 3217-9930|\n",
      "+--------------+--------------------+----------+------------------+------+-------------+---------------+------------+--------------------+-------------------+\n",
      "only showing top 5 rows\n",
      "\n"
     ]
    }
   ],
   "source": [
    "df.where(df.estado.isin('SP','MG')).show(5) #Filter e where funconam igual"
   ]
  },
  {
   "cell_type": "code",
   "execution_count": 20,
   "metadata": {},
   "outputs": [
    {
     "name": "stdout",
     "output_type": "stream",
     "text": [
      "+--------------+--------------------+----------+------------------+------+-------------+--------------+------------+--------------------+-------------------+\n",
      "|           cpf|               email|     senha|data_de_nascimento|estado|data_cadastro|          ipv4|cor_favorita|           profissao|           telefone|\n",
      "+--------------+--------------------+----------+------------------+------+-------------+--------------+------------+--------------------+-------------------+\n",
      "|398.471.625-73|felipepires@uol.c...|*Aw5EOAvy9|        1921-11-11|    MG|   2023-01-02|  181.90.63.58|        Azul|      Papiloscopista|       11 9674-0553|\n",
      "|085.427.631-90|pedro-lucas79@yah...|B)9P4q+tLR|        1944-03-01|    MG|   2023-01-06|171.175.90.138|        Azul|Tecnólogo Em Espo...|+55 (081) 4438 9837|\n",
      "|940.578.623-74|fernandolopes@yah...|DE5Il)Thu*|        1945-04-04|    MG|   2023-03-09|211.163.192.56|        Azul|             Tenente|      0300-025-4031|\n",
      "+--------------+--------------------+----------+------------------+------+-------------+--------------+------------+--------------------+-------------------+\n",
      "\n"
     ]
    }
   ],
   "source": [
    "df.where(df.estado=='MG').where(df.cor_favorita=='Azul').show(3)"
   ]
  },
  {
   "cell_type": "code",
   "execution_count": 22,
   "metadata": {},
   "outputs": [
    {
     "name": "stdout",
     "output_type": "stream",
     "text": [
      "+--------------+--------------------+----------+------------------+------+-------------+--------------+------------+---------+-------------+\n",
      "|           cpf|               email|     senha|data_de_nascimento|estado|data_cadastro|          ipv4|cor_favorita|profissao|     telefone|\n",
      "+--------------+--------------------+----------+------------------+------+-------------+--------------+------------+---------+-------------+\n",
      "|940.578.623-74|fernandolopes@yah...|DE5Il)Thu*|        1945-04-04|    MG|   2023-03-09|211.163.192.56|        Azul|  Tenente|0300-025-4031|\n",
      "+--------------+--------------------+----------+------------------+------+-------------+--------------+------------+---------+-------------+\n",
      "\n"
     ]
    }
   ],
   "source": [
    "df.filter(df.estado.isin('SP', 'MG')).filter(df.cor_favorita == 'Azul').filter(df.profissao == 'Tenente').show(5)"
   ]
  },
  {
   "cell_type": "code",
   "execution_count": 21,
   "metadata": {},
   "outputs": [
    {
     "name": "stdout",
     "output_type": "stream",
     "text": [
      "+--------------+--------------------+----------+------------------+------+-------------+--------------+------------+---------+-------------+\n",
      "|           cpf|               email|     senha|data_de_nascimento|estado|data_cadastro|          ipv4|cor_favorita|profissao|     telefone|\n",
      "+--------------+--------------------+----------+------------------+------+-------------+--------------+------------+---------+-------------+\n",
      "|940.578.623-74|fernandolopes@yah...|DE5Il)Thu*|        1945-04-04|    MG|   2023-03-09|211.163.192.56|        Azul|  Tenente|0300-025-4031|\n",
      "+--------------+--------------------+----------+------------------+------+-------------+--------------+------------+---------+-------------+\n",
      "\n"
     ]
    }
   ],
   "source": [
    "(\n",
    "    df\n",
    "    .filter(df.estado.isin('SP', 'MG'))\n",
    "    .filter(df.cor_favorita == 'Azul')\n",
    "    .filter(df.profissao == 'Tenente')\n",
    ").show(5)"
   ]
  }
 ],
 "metadata": {
  "kernelspec": {
   "display_name": "Python 3",
   "language": "python",
   "name": "python3"
  },
  "language_info": {
   "codemirror_mode": {
    "name": "ipython",
    "version": 3
   },
   "file_extension": ".py",
   "mimetype": "text/x-python",
   "name": "python",
   "nbconvert_exporter": "python",
   "pygments_lexer": "ipython3",
   "version": "3.12.2"
  }
 },
 "nbformat": 4,
 "nbformat_minor": 2
}
